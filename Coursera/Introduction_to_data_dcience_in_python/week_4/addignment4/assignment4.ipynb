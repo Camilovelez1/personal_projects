{
 "cells": [
  {
   "cell_type": "markdown",
   "metadata": {
    "deletable": false,
    "editable": false,
    "etc_identifier": "653a3605-5bda-4e1f-beef-04a0173d3f41",
    "nbgrader": {
     "cell_type": "markdown",
     "checksum": "60da2e57814a61cf6a81dd670bf35473",
     "grade": false,
     "grade_id": "cell-a6c4f74309fc2379",
     "locked": true,
     "schema_version": 3,
     "solution": false
    }
   },
   "source": [
    "# Assignment 4\n",
    "## Description\n",
    "In this assignment you must read in a file of metropolitan regions and associated sports teams from [assets/wikipedia_data.html](assets/wikipedia_data.html) and answer some questions about each metropolitan region. Each of these regions may have one or more teams from the \"Big 4\": NFL (football, in [assets/nfl.csv](assets/nfl.csv)), MLB (baseball, in [assets/mlb.csv](assets/mlb.csv)), NBA (basketball, in [assets/nba.csv](assets/nba.csv) or NHL (hockey, in [assets/nhl.csv](assets/nhl.csv)). Please keep in mind that all questions are from the perspective of the metropolitan region, and that this file is the \"source of authority\" for the location of a given sports team. Thus teams which are commonly known by a different area (e.g. \"Oakland Raiders\") need to be mapped into the metropolitan region given (e.g. San Francisco Bay Area). This will require some human data understanding outside of the data you've been given (e.g. you will have to hand-code some names, and might need to google to find out where teams are)!\n",
    "\n",
    "For each sport I would like you to answer the question: **what is the win/loss ratio's correlation with the population of the city it is in?** Win/Loss ratio refers to the number of wins over the number of wins plus the number of losses. Remember that to calculate the correlation with [`pearsonr`](https://docs.scipy.org/doc/scipy/reference/generated/scipy.stats.pearsonr.html), so you are going to send in two ordered lists of values, the populations from the wikipedia_data.html file and the win/loss ratio for a given sport in the same order. Average the win/loss ratios for those cities which have multiple teams of a single sport. Each sport is worth an equal amount in this assignment (20%\\*4=80%) of the grade for this assignment. You should only use data **from year 2018** for your analysis -- this is important!\n",
    "\n",
    "## Notes\n",
    "\n",
    "1. Do not include data about the MLS or CFL in any of the work you are doing, we're only interested in the Big 4 in this assignment.\n",
    "2. I highly suggest that you first tackle the four correlation questions in order, as they are all similar and worth the majority of grades for this assignment. This is by design!\n",
    "3. It's fair game to talk with peers about high level strategy as well as the relationship between metropolitan areas and sports teams. However, do not post code solving aspects of the assignment (including such as dictionaries mapping areas to teams, or regexes which will clean up names).\n",
    "4. There may be more teams than the assert statements test, remember to collapse multiple teams in one city into a single value!\n",
    "\n",
    "As this assignment utilizes global variables in the skeleton code, to avoid having errors in your code you can either:\n",
    "\n",
    "1. You can place all of your code within the function definitions for all of the questions (other than import statements).\n",
    "2. You can create copies of all the global variables with the copy() method and proceed as usual."
   ]
  },
  {
   "cell_type": "markdown",
   "metadata": {
    "deletable": false,
    "editable": false,
    "nbgrader": {
     "cell_type": "markdown",
     "checksum": "369ff9ecf0ee04640574205cbc697f94",
     "grade": false,
     "grade_id": "cell-712b2b5da63d4505",
     "locked": true,
     "schema_version": 3,
     "solution": false
    }
   },
   "source": [
    "## Question 1\n",
    "For this question, calculate the win/loss ratio's correlation with the population of the city it is in for the **NHL** using **2018** data."
   ]
  },
  {
   "cell_type": "code",
   "execution_count": 1,
   "metadata": {},
   "outputs": [],
   "source": [
    "import pandas as pd\n",
    "import numpy as np\n",
    "import scipy.stats as stats\n",
    "import re\n",
    "\n",
    "nhl_df=pd.read_csv(\"assets/nhl.csv\")\n",
    "cities=pd.read_html(\"assets/wikipedia_data.html\")[1]\n",
    "cities=cities.iloc[:-1,[0,3,5,6,7,8]]"
   ]
  },
  {
   "cell_type": "code",
   "execution_count": 2,
   "metadata": {},
   "outputs": [],
   "source": [
    "nhl_df_copy = nhl_df.copy()\n",
    "nhl_df_copy = nhl_df_copy[nhl_df_copy['year'] == 2018]\n",
    "nhl_df_copy['team'] = nhl_df_copy['team'].str.lower()\n",
    "nhl_df_copy['team'] = nhl_df_copy['team'].str.replace(r'\\[.*\\]', '', regex=True)\n",
    "nhl_df_copy['team'] = nhl_df_copy['team'].str.replace(r'\\*', '', regex=True)\n",
    "nhl_df_copy['GP'] = pd.to_numeric(nhl_df_copy['GP'], errors='coerce')  # Convierte a numérico, convirtiendo no numéricos a NaN\n",
    "nhl_df_copy = nhl_df_copy.dropna(subset=['GP'])  # Elimina las filas con valores NaN en la columna"
   ]
  },
  {
   "cell_type": "code",
   "execution_count": 3,
   "metadata": {},
   "outputs": [],
   "source": [
    "cities_copy = cities.copy()\n",
    "cities_copy['NHL'] = cities_copy['NHL'].str.lower()\n",
    "cities_copy['Metropolitan area'] = cities_copy['Metropolitan area'].str.lower()\n",
    "cities_copy['NHL'] = cities_copy['NHL'].str.replace(r'\\[.*\\]', '', regex=True)\n",
    "cities_copy['NHL'] = cities_copy['NHL'].str.replace(r'\\*', '', regex=True)\n",
    "cities_copy['NHL'] = cities_copy['NHL'].replace(\"—\", np.nan)\n",
    "cities_copy['team'] = np.where(cities_copy['NHL'].notnull(), cities_copy['Metropolitan area'] + ' ' + cities_copy['NHL'], np.nan)"
   ]
  },
  {
   "cell_type": "code",
   "execution_count": 4,
   "metadata": {},
   "outputs": [],
   "source": [
    "merged_df = pd.merge(nhl_df_copy, cities_copy, how='left', left_on='team', right_on='team')"
   ]
  },
  {
   "cell_type": "code",
   "execution_count": 5,
   "metadata": {},
   "outputs": [],
   "source": [
    "not_in_merged_df = nhl_df_copy[~nhl_df_copy['team'].isin(merged_df['team'])]\n"
   ]
  },
  {
   "cell_type": "code",
   "execution_count": 6,
   "metadata": {},
   "outputs": [
    {
     "name": "stdout",
     "output_type": "stream",
     "text": [
      "[]\n",
      "0\n"
     ]
    }
   ],
   "source": [
    "unique_not_merged_team = not_in_merged_df['team'].unique()\n",
    "\n",
    "print(unique_not_merged_team)\n",
    "print(len(unique_not_merged_team))"
   ]
  },
  {
   "cell_type": "code",
   "execution_count": 7,
   "metadata": {},
   "outputs": [],
   "source": [
    "import pandas as pd\n",
    "\n",
    "# Diccionario con equipos de la NHL\n",
    "equipos_nhl = {\n",
    "    'atlantic division': ['tampa bay lightning', 'florida panthers'],\n",
    "    'metropolitan division': ['washington capitals', 'new jersey devils', 'carolina hurricanes', 'new york islanders', 'new york rangers'],\n",
    "    'central division': ['minnesota wild', 'colorado avalanche', 'dallas stars'],\n",
    "    'pacific division': ['vegas golden knights', 'anaheim ducks', 'san jose sharks', 'los angeles kings', 'arizona coyotes']\n",
    "}\n",
    "\n",
    "# Datos de población\n",
    "population_data = {\n",
    "    'tampa bay lightning': 3357096,\n",
    "    'florida panthers': 679127,\n",
    "    'washington capitals': 681170,\n",
    "    'new jersey devils': 894446,\n",
    "    'carolina hurricanes': 1130490,\n",
    "    'new york islanders': 2418990,\n",
    "    'new york rangers': 8537673,\n",
    "    'minnesota wild': 3551036,\n",
    "    'colorado avalanche': 4711142,\n",
    "    'dallas stars': 7233323,\n",
    "    'vegas golden knights': 632912,\n",
    "    'anaheim ducks': 1334891,\n",
    "    'san jose sharks': 1922200,\n",
    "    'los angeles kings': 10137915,\n",
    "    'arizona coyotes': 6392017\n",
    "}\n",
    "\n",
    "# Crear listas para construir el DataFrame\n",
    "divisiones = []\n",
    "equipos = []\n",
    "poblacion = []\n",
    "\n",
    "# Recorrer el diccionario para llenar las listas\n",
    "for division, equipos_lista in equipos_nhl.items():\n",
    "    for equipo in equipos_lista:\n",
    "        divisiones.append(division)\n",
    "        equipos.append(equipo)\n",
    "        poblacion.append(population_data.get(equipo.lower(), None))  # Obtener la población según el nombre del equipo\n",
    "\n",
    "# Crear el DataFrame\n",
    "df_equipos_faltantes_nhl = pd.DataFrame({\n",
    "    'Division': divisiones,\n",
    "    'Equipo': equipos,\n",
    "    'Population (2016 est.)[8]': poblacion\n",
    "})\n"
   ]
  },
  {
   "cell_type": "code",
   "execution_count": 8,
   "metadata": {},
   "outputs": [],
   "source": [
    "merged_df = pd.merge(merged_df, df_equipos_faltantes_nhl, how='left', left_on='team', right_on='Equipo')"
   ]
  },
  {
   "cell_type": "code",
   "execution_count": 9,
   "metadata": {},
   "outputs": [],
   "source": [
    "merged_df['Metropolitan_area_consolited'] = merged_df['Metropolitan area'].fillna(merged_df['Division'])\n",
    "merged_df['Population_consolited'] = merged_df['Population (2016 est.)[8]_x'].fillna(merged_df['Population (2016 est.)[8]_y'])\n",
    "nuevo_merged_df = merged_df[['team', 'GP', 'W','L', 'OL', 'PTS','PTS%', 'GF', 'GA','SRS', 'SOS', 'RPt%','ROW', 'year', 'League','Metropolitan_area_consolited', 'Population_consolited']].copy()"
   ]
  },
  {
   "cell_type": "code",
   "execution_count": 10,
   "metadata": {},
   "outputs": [],
   "source": [
    "columns_to_convert = ['W', 'L', 'OL', 'PTS', 'GF', 'GA', 'SRS', 'SOS', 'RPt%', 'ROW', 'PTS%']\n",
    "nuevo_merged_df[columns_to_convert] = nuevo_merged_df[columns_to_convert].astype(float)\n"
   ]
  },
  {
   "cell_type": "code",
   "execution_count": 11,
   "metadata": {},
   "outputs": [
    {
     "name": "stdout",
     "output_type": "stream",
     "text": [
      "<class 'pandas.core.frame.DataFrame'>\n",
      "RangeIndex: 31 entries, 0 to 30\n",
      "Data columns (total 17 columns):\n",
      " #   Column                        Non-Null Count  Dtype  \n",
      "---  ------                        --------------  -----  \n",
      " 0   team                          31 non-null     object \n",
      " 1   GP                            31 non-null     float64\n",
      " 2   W                             31 non-null     float64\n",
      " 3   L                             31 non-null     float64\n",
      " 4   OL                            31 non-null     float64\n",
      " 5   PTS                           31 non-null     float64\n",
      " 6   PTS%                          31 non-null     float64\n",
      " 7   GF                            31 non-null     float64\n",
      " 8   GA                            31 non-null     float64\n",
      " 9   SRS                           31 non-null     float64\n",
      " 10  SOS                           31 non-null     float64\n",
      " 11  RPt%                          31 non-null     float64\n",
      " 12  ROW                           31 non-null     float64\n",
      " 13  year                          31 non-null     int64  \n",
      " 14  League                        31 non-null     object \n",
      " 15  Metropolitan_area_consolited  31 non-null     object \n",
      " 16  Population_consolited         31 non-null     object \n",
      "dtypes: float64(12), int64(1), object(4)\n",
      "memory usage: 4.2+ KB\n"
     ]
    }
   ],
   "source": [
    "nuevo_merged_df.info()"
   ]
  },
  {
   "cell_type": "code",
   "execution_count": 12,
   "metadata": {},
   "outputs": [],
   "source": [
    "from scipy.stats import pearsonr"
   ]
  },
  {
   "cell_type": "code",
   "execution_count": 15,
   "metadata": {},
   "outputs": [
    {
     "name": "stdout",
     "output_type": "stream",
     "text": [
      "Correlation coefficient between Win/Loss Ratio and Population: -0.1425271728944363\n",
      "Pearson correlation coefficient: -0.14252717289443634\n",
      "P-value: 0.4443522749327298\n"
     ]
    }
   ],
   "source": [
    "nuevo_merged_df['Win_Loss_Ratio'] = nuevo_merged_df['W'] / (nuevo_merged_df['W'] + nuevo_merged_df['L'])\n",
    "population_by_region = nuevo_merged_df['Population_consolited']\n",
    "win_loss_by_region = nuevo_merged_df['Win_Loss_Ratio']\n",
    "correlation = nuevo_merged_df['Win_Loss_Ratio'].corr(nuevo_merged_df['Population_consolited'])\n",
    "\n",
    "print(f\"Correlation coefficient between Win/Loss Ratio and Population: {correlation}\")\n",
    "\n",
    "population_by_region = nuevo_merged_df['Population_consolited']\n",
    "win_loss_by_region = nuevo_merged_df['Win_Loss_Ratio']\n",
    "\n",
    "correlation_coefficient, p_value = pearsonr(population_by_region, win_loss_by_region)\n",
    "\n",
    "print(f\"Pearson correlation coefficient: {correlation_coefficient}\")\n",
    "print(f\"P-value: {p_value}\")\n",
    "\n",
    "\n"
   ]
  },
  {
   "cell_type": "code",
   "execution_count": null,
   "metadata": {},
   "outputs": [],
   "source": [
    "from scipy.stats import pearsonr\n",
    "\n",
    "# Assuming nuevo_merged_df is your DataFrame\n",
    "# Assuming cities is your DataFrame containing metropolitan area information\n",
    "\n",
    "# Extract relevant columns from nuevo_merged_df\n",
    "relevant_columns = ['Metropolitan_area_consolited', 'Population_consolited', 'Win_Loss_Ratio']\n",
    "subset_df = nuevo_merged_df[relevant_columns]\n",
    "\n",
    "# Merge with cities DataFrame based on the 'Metropolitan_area_consolited' column\n",
    "merged_df = pd.merge(subset_df, cities, how='inner', left_on='Metropolitan_area_consolited', right_on='Metropolitan area')\n",
    "\n",
    "# Ensure 'Population_consolited' is in numeric format\n",
    "merged_df['Population_consolited'] = pd.to_numeric(merged_df['Population_consolited'], errors='coerce')\n",
    "\n",
    "# Extract the relevant columns for the correlation calculation\n",
    "population_by_region = merged_df['Population_consolited']\n",
    "win_loss_by_region = merged_df['Win_Loss_Ratio']\n",
    "\n",
    "# Perform the correlation calculation\n",
    "correlation_coefficient, p_value = pearsonr(population_by_region, win_loss_by_region)\n",
    "\n",
    "print(f\"Pearson correlation coefficient: {correlation_coefficient}\")\n",
    "print(f\"P-value: {p_value}\")\n"
   ]
  },
  {
   "cell_type": "code",
   "execution_count": null,
   "metadata": {},
   "outputs": [],
   "source": [
    "print(len(population_by_region), len(win_loss_by_region))"
   ]
  },
  {
   "cell_type": "code",
   "execution_count": 16,
   "metadata": {
    "deletable": false,
    "nbgrader": {
     "cell_type": "code",
     "checksum": "1cac4803b02502929f5b1612d48db2b5",
     "grade": false,
     "grade_id": "cell-69b16e4386e58030",
     "locked": false,
     "schema_version": 3,
     "solution": true
    }
   },
   "outputs": [],
   "source": [
    "import pandas as pd\n",
    "import numpy as np\n",
    "import scipy.stats as stats\n",
    "from scipy.stats import pearsonr\n",
    "import re\n",
    "\n",
    "nhl_df=pd.read_csv(\"assets/nhl.csv\")\n",
    "cities=pd.read_html(\"assets/wikipedia_data.html\")[1]\n",
    "cities=cities.iloc[:-1,[0,3,5,6,7,8]]\n",
    "\n",
    "def nhl_correlation(): \n",
    "    nhl_df_copy = nhl_df.copy()\n",
    "    nhl_df_copy = nhl_df_copy[nhl_df_copy['year'] == 2018]\n",
    "    nhl_df_copy['team'] = nhl_df_copy['team'].str.lower()\n",
    "    nhl_df_copy['team'] = nhl_df_copy['team'].str.replace(r'\\[.*\\]', '', regex=True)\n",
    "    nhl_df_copy['team'] = nhl_df_copy['team'].str.replace(r'\\*', '', regex=True)\n",
    "    nhl_df_copy['GP'] = pd.to_numeric(nhl_df_copy['GP'], errors='coerce')  # Convierte a numérico, convirtiendo no numéricos a NaN\n",
    "    nhl_df_copy = nhl_df_copy.dropna(subset=['GP'])  # Elimina las filas con valores NaN en la columna\n",
    "\n",
    "    cities_copy = cities.copy()\n",
    "    cities_copy['NHL'] = cities_copy['NHL'].str.lower()\n",
    "    cities_copy['Metropolitan area'] = cities_copy['Metropolitan area'].str.lower()\n",
    "    cities_copy['NHL'] = cities_copy['NHL'].str.replace(r'\\[.*\\]', '', regex=True)\n",
    "    cities_copy['NHL'] = cities_copy['NHL'].str.replace(r'\\*', '', regex=True)\n",
    "    cities_copy['NHL'] = cities_copy['NHL'].replace(\"—\", np.nan)\n",
    "    cities_copy['team'] = np.where(cities_copy['NHL'].notnull(), cities_copy['Metropolitan area'] + ' ' + cities_copy['NHL'], np.nan)\n",
    "\n",
    "    merged_df = pd.merge(nhl_df_copy, cities_copy, how='left', left_on='team', right_on='team')\n",
    "    equipos_nhl = {\n",
    "    'atlantic division': ['tampa bay lightning', 'florida panthers'],\n",
    "    'metropolitan division': ['washington capitals', 'new jersey devils', 'carolina hurricanes', 'new york islanders', 'new york rangers'],\n",
    "    'central division': ['minnesota wild', 'colorado avalanche', 'dallas stars'],\n",
    "    'pacific division': ['vegas golden knights', 'anaheim ducks', 'san jose sharks', 'los angeles kings', 'arizona coyotes']\n",
    "    }\n",
    "\n",
    "    # Datos de población\n",
    "    population_data = {\n",
    "        'tampa bay lightning': 3357096,\n",
    "        'florida panthers': 679127,\n",
    "        'washington capitals': 681170,\n",
    "        'new jersey devils': 894446,\n",
    "        'carolina hurricanes': 1130490,\n",
    "        'new york islanders': 2418990,\n",
    "        'new york rangers': 8537673,\n",
    "        'minnesota wild': 3551036,\n",
    "        'colorado avalanche': 4711142,\n",
    "        'dallas stars': 7233323,\n",
    "        'vegas golden knights': 632912,\n",
    "        'anaheim ducks': 1334891,\n",
    "        'san jose sharks': 1922200,\n",
    "        'los angeles kings': 10137915,\n",
    "        'arizona coyotes': 6392017\n",
    "    }\n",
    "\n",
    "    # Crear listas para construir el DataFrame\n",
    "    divisiones = []\n",
    "    equipos = []\n",
    "    poblacion = []\n",
    "\n",
    "    # Recorrer el diccionario para llenar las listas\n",
    "    for division, equipos_lista in equipos_nhl.items():\n",
    "        for equipo in equipos_lista:\n",
    "            divisiones.append(division)\n",
    "            equipos.append(equipo)\n",
    "            poblacion.append(population_data.get(equipo.lower(), None))  # Obtener la población según el nombre del equipo\n",
    "\n",
    "    # Crear el DataFrame\n",
    "    df_equipos_faltantes_nhl = pd.DataFrame({\n",
    "        'Division': divisiones,\n",
    "        'Equipo': equipos,\n",
    "        'Population (2016 est.)[8]': poblacion\n",
    "    })\n",
    "\n",
    "    merged_df = pd.merge(merged_df, df_equipos_faltantes_nhl, how='left', left_on='team', right_on='Equipo')  \n",
    "\n",
    "    merged_df['Metropolitan_area_consolited'] = merged_df['Metropolitan area'].fillna(merged_df['Division'])\n",
    "    merged_df['Population_consolited'] = merged_df['Population (2016 est.)[8]_x'].fillna(merged_df['Population (2016 est.)[8]_y'])\n",
    "    nuevo_merged_df = merged_df[['team', 'GP', 'W','L', 'OL', 'PTS','PTS%', 'GF', 'GA','SRS', 'SOS', 'RPt%','ROW', 'year', 'League','Metropolitan_area_consolited', 'Population_consolited']].copy()  \n",
    "    \n",
    "    columns_to_convert = ['W', 'L', 'OL', 'PTS', 'GF', 'GA', 'SRS', 'SOS', 'RPt%', 'ROW', 'PTS%']\n",
    "    nuevo_merged_df[columns_to_convert] = nuevo_merged_df[columns_to_convert].astype(float)\n",
    "\n",
    "    nuevo_merged_df['Win_Loss_Ratio'] = nuevo_merged_df['W'] / (nuevo_merged_df['W'] + nuevo_merged_df['L'])\n",
    "    population_by_region = nuevo_merged_df['Population_consolited']\n",
    "    win_loss_by_region = nuevo_merged_df['Win_Loss_Ratio']\n",
    "\n",
    "    #correlation = nuevo_merged_df_2018['Win_Loss_Ratio'].corr(nuevo_merged_df_2018['Population_consolited'])\n",
    "    \n",
    "    # YOUR CODE HERE\n",
    "    #raise NotImplementedError()\n",
    "    \n",
    "    assert len(population_by_region) == len(win_loss_by_region), \"Q1: Your lists must be the same length\"\n",
    "    assert len(population_by_region) == 28, \"Q1: There should be 28 teams being analysed for NHL\"\n",
    "    \n",
    "    return stats.pearsonr(population_by_region, win_loss_by_region)"
   ]
  },
  {
   "cell_type": "code",
   "execution_count": 17,
   "metadata": {
    "deletable": false,
    "editable": false,
    "nbgrader": {
     "cell_type": "code",
     "checksum": "52a581df513c71153e105b93764cda4b",
     "grade": true,
     "grade_id": "cell-ebe0b2dfe1067e63",
     "locked": true,
     "points": 20,
     "schema_version": 3,
     "solution": false
    }
   },
   "outputs": [
    {
     "ename": "AssertionError",
     "evalue": "Q1: There should be 28 teams being analysed for NHL",
     "output_type": "error",
     "traceback": [
      "\u001b[0;31m---------------------------------------------------------------------------\u001b[0m",
      "\u001b[0;31mAssertionError\u001b[0m                            Traceback (most recent call last)",
      "\u001b[1;32m/home/camilo/personal_projects/Coursera/Introduction_to_data_dcience_in_python/week_4/addignment4/assignment4.ipynb Cell 19\u001b[0m line \u001b[0;36m1\n\u001b[0;32m----> <a href='vscode-notebook-cell://wsl%2Bubuntu/home/camilo/personal_projects/Coursera/Introduction_to_data_dcience_in_python/week_4/addignment4/assignment4.ipynb#X25sdnNjb2RlLXJlbW90ZQ%3D%3D?line=0'>1</a>\u001b[0m nhl_correlation()\n",
      "\u001b[1;32m/home/camilo/personal_projects/Coursera/Introduction_to_data_dcience_in_python/week_4/addignment4/assignment4.ipynb Cell 19\u001b[0m line \u001b[0;36m9\n\u001b[1;32m     <a href='vscode-notebook-cell://wsl%2Bubuntu/home/camilo/personal_projects/Coursera/Introduction_to_data_dcience_in_python/week_4/addignment4/assignment4.ipynb#X25sdnNjb2RlLXJlbW90ZQ%3D%3D?line=86'>87</a>\u001b[0m \u001b[39m#correlation = nuevo_merged_df_2018['Win_Loss_Ratio'].corr(nuevo_merged_df_2018['Population_consolited'])\u001b[39;00m\n\u001b[1;32m     <a href='vscode-notebook-cell://wsl%2Bubuntu/home/camilo/personal_projects/Coursera/Introduction_to_data_dcience_in_python/week_4/addignment4/assignment4.ipynb#X25sdnNjb2RlLXJlbW90ZQ%3D%3D?line=87'>88</a>\u001b[0m \n\u001b[1;32m     <a href='vscode-notebook-cell://wsl%2Bubuntu/home/camilo/personal_projects/Coursera/Introduction_to_data_dcience_in_python/week_4/addignment4/assignment4.ipynb#X25sdnNjb2RlLXJlbW90ZQ%3D%3D?line=88'>89</a>\u001b[0m \u001b[39m# YOUR CODE HERE\u001b[39;00m\n\u001b[1;32m     <a href='vscode-notebook-cell://wsl%2Bubuntu/home/camilo/personal_projects/Coursera/Introduction_to_data_dcience_in_python/week_4/addignment4/assignment4.ipynb#X25sdnNjb2RlLXJlbW90ZQ%3D%3D?line=89'>90</a>\u001b[0m \u001b[39m#raise NotImplementedError()\u001b[39;00m\n\u001b[1;32m     <a href='vscode-notebook-cell://wsl%2Bubuntu/home/camilo/personal_projects/Coursera/Introduction_to_data_dcience_in_python/week_4/addignment4/assignment4.ipynb#X25sdnNjb2RlLXJlbW90ZQ%3D%3D?line=91'>92</a>\u001b[0m \u001b[39massert\u001b[39;00m \u001b[39mlen\u001b[39m(population_by_region) \u001b[39m==\u001b[39m \u001b[39mlen\u001b[39m(win_loss_by_region), \u001b[39m\"\u001b[39m\u001b[39mQ1: Your lists must be the same length\u001b[39m\u001b[39m\"\u001b[39m\n\u001b[0;32m---> <a href='vscode-notebook-cell://wsl%2Bubuntu/home/camilo/personal_projects/Coursera/Introduction_to_data_dcience_in_python/week_4/addignment4/assignment4.ipynb#X25sdnNjb2RlLXJlbW90ZQ%3D%3D?line=92'>93</a>\u001b[0m \u001b[39massert\u001b[39;00m \u001b[39mlen\u001b[39m(population_by_region) \u001b[39m==\u001b[39m \u001b[39m28\u001b[39m, \u001b[39m\"\u001b[39m\u001b[39mQ1: There should be 28 teams being analysed for NHL\u001b[39m\u001b[39m\"\u001b[39m\n\u001b[1;32m     <a href='vscode-notebook-cell://wsl%2Bubuntu/home/camilo/personal_projects/Coursera/Introduction_to_data_dcience_in_python/week_4/addignment4/assignment4.ipynb#X25sdnNjb2RlLXJlbW90ZQ%3D%3D?line=94'>95</a>\u001b[0m \u001b[39mreturn\u001b[39;00m stats\u001b[39m.\u001b[39mpearsonr(population_by_region, win_loss_by_region)\n",
      "\u001b[0;31mAssertionError\u001b[0m: Q1: There should be 28 teams being analysed for NHL"
     ]
    }
   ],
   "source": [
    "nhl_correlation()"
   ]
  },
  {
   "cell_type": "markdown",
   "metadata": {
    "deletable": false,
    "editable": false,
    "nbgrader": {
     "cell_type": "markdown",
     "checksum": "988912cae4968d81473f46d783e79c16",
     "grade": false,
     "grade_id": "cell-cb964e690298b71d",
     "locked": true,
     "schema_version": 3,
     "solution": false
    }
   },
   "source": [
    "## Question 2\n",
    "For this question, calculate the win/loss ratio's correlation with the population of the city it is in for the **NBA** using **2018** data."
   ]
  },
  {
   "cell_type": "code",
   "execution_count": null,
   "metadata": {
    "deletable": false,
    "nbgrader": {
     "cell_type": "code",
     "checksum": "9394222aafc8ccab0a228098ba0d6010",
     "grade": false,
     "grade_id": "cell-5a5f21279e3d3572",
     "locked": false,
     "schema_version": 3,
     "solution": true
    }
   },
   "outputs": [],
   "source": [
    "import pandas as pd\n",
    "import numpy as np\n",
    "import scipy.stats as stats\n",
    "import re\n",
    "\n",
    "nba_df=pd.read_csv(\"assets/nba.csv\")\n",
    "cities=pd.read_html(\"assets/wikipedia_data.html\")[1]\n",
    "cities=cities.iloc[:-1,[0,3,5,6,7,8]]\n",
    "\n",
    "def nba_correlation():\n",
    "    # YOUR CODE HERE\n",
    "    raise NotImplementedError()\n",
    "    \n",
    "    population_by_region = [] # pass in metropolitan area population from cities\n",
    "    win_loss_by_region = [] # pass in win/loss ratio from nba_df in the same order as cities[\"Metropolitan area\"]\n",
    "\n",
    "    assert len(population_by_region) == len(win_loss_by_region), \"Q2: Your lists must be the same length\"\n",
    "    assert len(population_by_region) == 28, \"Q2: There should be 28 teams being analysed for NBA\"\n",
    "\n",
    "    return stats.pearsonr(population_by_region, win_loss_by_region)"
   ]
  },
  {
   "cell_type": "code",
   "execution_count": null,
   "metadata": {
    "deletable": false,
    "editable": false,
    "nbgrader": {
     "cell_type": "code",
     "checksum": "bbdeb8eb22f525a34c10dc8798324e42",
     "grade": true,
     "grade_id": "cell-e573b2b4a282b470",
     "locked": true,
     "points": 20,
     "schema_version": 3,
     "solution": false
    }
   },
   "outputs": [],
   "source": []
  },
  {
   "cell_type": "markdown",
   "metadata": {
    "deletable": false,
    "editable": false,
    "nbgrader": {
     "cell_type": "markdown",
     "checksum": "1a1a5809f675ca033086422007cd73bd",
     "grade": false,
     "grade_id": "cell-96e15e4335df78f4",
     "locked": true,
     "schema_version": 3,
     "solution": false
    }
   },
   "source": [
    "## Question 3\n",
    "For this question, calculate the win/loss ratio's correlation with the population of the city it is in for the **MLB** using **2018** data."
   ]
  },
  {
   "cell_type": "code",
   "execution_count": null,
   "metadata": {
    "deletable": false,
    "nbgrader": {
     "cell_type": "code",
     "checksum": "27e8c0da6c9fa0dffc10488314335b6c",
     "grade": false,
     "grade_id": "cell-33b00fc3f3467b0c",
     "locked": false,
     "schema_version": 3,
     "solution": true
    }
   },
   "outputs": [],
   "source": [
    "import pandas as pd\n",
    "import numpy as np\n",
    "import scipy.stats as stats\n",
    "import re\n",
    "\n",
    "mlb_df=pd.read_csv(\"assets/mlb.csv\")\n",
    "cities=pd.read_html(\"assets/wikipedia_data.html\")[1]\n",
    "cities=cities.iloc[:-1,[0,3,5,6,7,8]]\n",
    "\n",
    "def mlb_correlation(): \n",
    "    # YOUR CODE HERE\n",
    "    raise NotImplementedError()\n",
    "    \n",
    "    population_by_region = [] # pass in metropolitan area population from cities\n",
    "    win_loss_by_region = [] # pass in win/loss ratio from mlb_df in the same order as cities[\"Metropolitan area\"]\n",
    "\n",
    "    assert len(population_by_region) == len(win_loss_by_region), \"Q3: Your lists must be the same length\"\n",
    "    assert len(population_by_region) == 26, \"Q3: There should be 26 teams being analysed for MLB\"\n",
    "\n",
    "    return stats.pearsonr(population_by_region, win_loss_by_region)"
   ]
  },
  {
   "cell_type": "code",
   "execution_count": null,
   "metadata": {
    "deletable": false,
    "editable": false,
    "nbgrader": {
     "cell_type": "code",
     "checksum": "cda33b094ba19ccc37a481e0dd29e0bc",
     "grade": true,
     "grade_id": "cell-764d4476f425c5a2",
     "locked": true,
     "points": 20,
     "schema_version": 3,
     "solution": false
    }
   },
   "outputs": [],
   "source": []
  },
  {
   "cell_type": "markdown",
   "metadata": {
    "deletable": false,
    "editable": false,
    "nbgrader": {
     "cell_type": "markdown",
     "checksum": "6977a6da9ed6d8b7a0b7e37bbeda709b",
     "grade": false,
     "grade_id": "cell-793df6c04dfb126e",
     "locked": true,
     "schema_version": 3,
     "solution": false
    }
   },
   "source": [
    "## Question 4\n",
    "For this question, calculate the win/loss ratio's correlation with the population of the city it is in for the **NFL** using **2018** data."
   ]
  },
  {
   "cell_type": "code",
   "execution_count": null,
   "metadata": {
    "deletable": false,
    "nbgrader": {
     "cell_type": "code",
     "checksum": "c4914ad1e119278ec2bd567c52640b66",
     "grade": false,
     "grade_id": "cell-8ccebc209aeec8d9",
     "locked": false,
     "schema_version": 3,
     "solution": true
    }
   },
   "outputs": [],
   "source": [
    "import pandas as pd\n",
    "import numpy as np\n",
    "import scipy.stats as stats\n",
    "import re\n",
    "\n",
    "nfl_df=pd.read_csv(\"assets/nfl.csv\")\n",
    "cities=pd.read_html(\"assets/wikipedia_data.html\")[1]\n",
    "cities=cities.iloc[:-1,[0,3,5,6,7,8]]\n",
    "\n",
    "def nfl_correlation(): \n",
    "    # YOUR CODE HERE\n",
    "    raise NotImplementedError()\n",
    "    \n",
    "    population_by_region = [] # pass in metropolitan area population from cities\n",
    "    win_loss_by_region = [] # pass in win/loss ratio from nfl_df in the same order as cities[\"Metropolitan area\"]\n",
    "\n",
    "    assert len(population_by_region) == len(win_loss_by_region), \"Q4: Your lists must be the same length\"\n",
    "    assert len(population_by_region) == 29, \"Q4: There should be 29 teams being analysed for NFL\"\n",
    "\n",
    "    return stats.pearsonr(population_by_region, win_loss_by_region)"
   ]
  },
  {
   "cell_type": "code",
   "execution_count": null,
   "metadata": {
    "deletable": false,
    "editable": false,
    "nbgrader": {
     "cell_type": "code",
     "checksum": "e9415d6399aa49e3a1a60813afdefa3b",
     "grade": true,
     "grade_id": "cell-de7b148b9554dbda",
     "locked": true,
     "points": 20,
     "schema_version": 3,
     "solution": false
    }
   },
   "outputs": [],
   "source": []
  },
  {
   "cell_type": "markdown",
   "metadata": {
    "deletable": false,
    "editable": false,
    "nbgrader": {
     "cell_type": "markdown",
     "checksum": "b02d5cd3273f561e4ae939bb2a41740c",
     "grade": false,
     "grade_id": "cell-97b49d8639e908c4",
     "locked": true,
     "schema_version": 3,
     "solution": false
    }
   },
   "source": [
    "## Question 5\n",
    "In this question I would like you to explore the hypothesis that **given that an area has two sports teams in different sports, those teams will perform the same within their respective sports**. How I would like to see this explored is with a series of paired t-tests (so use [`ttest_rel`](https://docs.scipy.org/doc/scipy/reference/generated/scipy.stats.ttest_rel.html)) between all pairs of sports. Are there any sports where we can reject the null hypothesis? Again, average values where a sport has multiple teams in one region. Remember, you will only be including, for each sport, cities which have teams engaged in that sport, drop others as appropriate. This question is worth 20% of the grade for this assignment."
   ]
  },
  {
   "cell_type": "code",
   "execution_count": null,
   "metadata": {
    "deletable": false,
    "nbgrader": {
     "cell_type": "code",
     "checksum": "6d78c961eb66f8d8c81f06d33ae8f393",
     "grade": false,
     "grade_id": "cell-92f25f44b8d1179f",
     "locked": false,
     "schema_version": 3,
     "solution": true
    }
   },
   "outputs": [],
   "source": [
    "import pandas as pd\n",
    "import numpy as np\n",
    "import scipy.stats as stats\n",
    "import re\n",
    "\n",
    "mlb_df=pd.read_csv(\"assets/mlb.csv\")\n",
    "nhl_df=pd.read_csv(\"assets/nhl.csv\")\n",
    "nba_df=pd.read_csv(\"assets/nba.csv\")\n",
    "nfl_df=pd.read_csv(\"assets/nfl.csv\")\n",
    "cities=pd.read_html(\"assets/wikipedia_data.html\")[1]\n",
    "cities=cities.iloc[:-1,[0,3,5,6,7,8]]\n",
    "\n",
    "def sports_team_performance():\n",
    "    # YOUR CODE HERE\n",
    "    raise NotImplementedError()\n",
    "    \n",
    "    # Note: p_values is a full dataframe, so df.loc[\"NFL\",\"NBA\"] should be the same as df.loc[\"NBA\",\"NFL\"] and\n",
    "    # df.loc[\"NFL\",\"NFL\"] should return np.nan\n",
    "    sports = ['NFL', 'NBA', 'NHL', 'MLB']\n",
    "    p_values = pd.DataFrame({k:np.nan for k in sports}, index=sports)\n",
    "    \n",
    "    assert abs(p_values.loc[\"NBA\", \"NHL\"] - 0.02) <= 1e-2, \"The NBA-NHL p-value should be around 0.02\"\n",
    "    assert abs(p_values.loc[\"MLB\", \"NFL\"] - 0.80) <= 1e-2, \"The MLB-NFL p-value should be around 0.80\"\n",
    "    return p_values"
   ]
  },
  {
   "cell_type": "code",
   "execution_count": null,
   "metadata": {
    "deletable": false,
    "editable": false,
    "nbgrader": {
     "cell_type": "code",
     "checksum": "2a596ab421a45cc01168d10e8fbb8f89",
     "grade": true,
     "grade_id": "cell-fb4b9cb5ff4570a6",
     "locked": true,
     "points": 20,
     "schema_version": 3,
     "solution": false
    }
   },
   "outputs": [],
   "source": []
  }
 ],
 "metadata": {
  "kernelspec": {
   "display_name": "Python 3 (ipykernel)",
   "language": "python",
   "name": "python3"
  },
  "language_info": {
   "codemirror_mode": {
    "name": "ipython",
    "version": 3
   },
   "file_extension": ".py",
   "mimetype": "text/x-python",
   "name": "python",
   "nbconvert_exporter": "python",
   "pygments_lexer": "ipython3",
   "version": "3.11.4"
  }
 },
 "nbformat": 4,
 "nbformat_minor": 4
}
