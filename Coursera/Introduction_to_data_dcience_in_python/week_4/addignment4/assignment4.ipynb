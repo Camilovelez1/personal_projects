{
 "cells": [
  {
   "cell_type": "markdown",
   "metadata": {
    "deletable": false,
    "editable": false,
    "etc_identifier": "653a3605-5bda-4e1f-beef-04a0173d3f41",
    "nbgrader": {
     "cell_type": "markdown",
     "checksum": "60da2e57814a61cf6a81dd670bf35473",
     "grade": false,
     "grade_id": "cell-a6c4f74309fc2379",
     "locked": true,
     "schema_version": 3,
     "solution": false
    }
   },
   "source": [
    "# Assignment 4\n",
    "## Description\n",
    "In this assignment you must read in a file of metropolitan regions and associated sports teams from [assets/wikipedia_data.html](assets/wikipedia_data.html) and answer some questions about each metropolitan region. Each of these regions may have one or more teams from the \"Big 4\": NFL (football, in [assets/nfl.csv](assets/nfl.csv)), MLB (baseball, in [assets/mlb.csv](assets/mlb.csv)), NBA (basketball, in [assets/nba.csv](assets/nba.csv) or NHL (hockey, in [assets/nhl.csv](assets/nhl.csv)). Please keep in mind that all questions are from the perspective of the metropolitan region, and that this file is the \"source of authority\" for the location of a given sports team. Thus teams which are commonly known by a different area (e.g. \"Oakland Raiders\") need to be mapped into the metropolitan region given (e.g. San Francisco Bay Area). This will require some human data understanding outside of the data you've been given (e.g. you will have to hand-code some names, and might need to google to find out where teams are)!\n",
    "\n",
    "For each sport I would like you to answer the question: **what is the win/loss ratio's correlation with the population of the city it is in?** Win/Loss ratio refers to the number of wins over the number of wins plus the number of losses. Remember that to calculate the correlation with [`pearsonr`](https://docs.scipy.org/doc/scipy/reference/generated/scipy.stats.pearsonr.html), so you are going to send in two ordered lists of values, the populations from the wikipedia_data.html file and the win/loss ratio for a given sport in the same order. Average the win/loss ratios for those cities which have multiple teams of a single sport. Each sport is worth an equal amount in this assignment (20%\\*4=80%) of the grade for this assignment. You should only use data **from year 2018** for your analysis -- this is important!\n",
    "\n",
    "## Notes\n",
    "\n",
    "1. Do not include data about the MLS or CFL in any of the work you are doing, we're only interested in the Big 4 in this assignment.\n",
    "2. I highly suggest that you first tackle the four correlation questions in order, as they are all similar and worth the majority of grades for this assignment. This is by design!\n",
    "3. It's fair game to talk with peers about high level strategy as well as the relationship between metropolitan areas and sports teams. However, do not post code solving aspects of the assignment (including such as dictionaries mapping areas to teams, or regexes which will clean up names).\n",
    "4. There may be more teams than the assert statements test, remember to collapse multiple teams in one city into a single value!\n",
    "\n",
    "As this assignment utilizes global variables in the skeleton code, to avoid having errors in your code you can either:\n",
    "\n",
    "1. You can place all of your code within the function definitions for all of the questions (other than import statements).\n",
    "2. You can create copies of all the global variables with the copy() method and proceed as usual."
   ]
  },
  {
   "cell_type": "markdown",
   "metadata": {
    "deletable": false,
    "editable": false,
    "nbgrader": {
     "cell_type": "markdown",
     "checksum": "369ff9ecf0ee04640574205cbc697f94",
     "grade": false,
     "grade_id": "cell-712b2b5da63d4505",
     "locked": true,
     "schema_version": 3,
     "solution": false
    }
   },
   "source": [
    "## Question 1\n",
    "For this question, calculate the win/loss ratio's correlation with the population of the city it is in for the **NHL** using **2018** data."
   ]
  },
  {
   "cell_type": "code",
   "execution_count": 27,
   "metadata": {},
   "outputs": [
    {
     "name": "stdout",
     "output_type": "stream",
     "text": [
      "<class 'pandas.core.frame.DataFrame'>\n",
      "RangeIndex: 171 entries, 0 to 170\n",
      "Data columns (total 15 columns):\n",
      " #   Column  Non-Null Count  Dtype \n",
      "---  ------  --------------  ----- \n",
      " 0   team    171 non-null    object\n",
      " 1   GP      171 non-null    object\n",
      " 2   W       171 non-null    object\n",
      " 3   L       171 non-null    object\n",
      " 4   OL      171 non-null    object\n",
      " 5   PTS     171 non-null    object\n",
      " 6   PTS%    171 non-null    object\n",
      " 7   GF      171 non-null    object\n",
      " 8   GA      171 non-null    object\n",
      " 9   SRS     171 non-null    object\n",
      " 10  SOS     171 non-null    object\n",
      " 11  RPt%    171 non-null    object\n",
      " 12  ROW     171 non-null    object\n",
      " 13  year    171 non-null    int64 \n",
      " 14  League  171 non-null    object\n",
      "dtypes: int64(1), object(14)\n",
      "memory usage: 20.2+ KB\n"
     ]
    }
   ],
   "source": [
    "import pandas as pd\n",
    "import numpy as np\n",
    "import scipy.stats as stats\n",
    "import re\n",
    "\n",
    "nhl_df=pd.read_csv(\"assets/nhl.csv\")\n",
    "cities=pd.read_html(\"assets/wikipedia_data.html\")[1]\n",
    "cities=cities.iloc[:-1,[0,3,5,6,7,8]]\n",
    "\n",
    "nhl_df.head(10)\n",
    "nhl_df.info()"
   ]
  },
  {
   "cell_type": "code",
   "execution_count": 28,
   "metadata": {},
   "outputs": [
    {
     "name": "stdout",
     "output_type": "stream",
     "text": [
      "<class 'pandas.core.frame.DataFrame'>\n",
      "RangeIndex: 51 entries, 0 to 50\n",
      "Data columns (total 6 columns):\n",
      " #   Column                     Non-Null Count  Dtype \n",
      "---  ------                     --------------  ----- \n",
      " 0   Metropolitan area          51 non-null     object\n",
      " 1   Population (2016 est.)[8]  51 non-null     object\n",
      " 2   NFL                        51 non-null     object\n",
      " 3   MLB                        51 non-null     object\n",
      " 4   NBA                        51 non-null     object\n",
      " 5   NHL                        51 non-null     object\n",
      "dtypes: object(6)\n",
      "memory usage: 2.5+ KB\n"
     ]
    }
   ],
   "source": [
    "cities_copy = cities.copy()\n",
    "cities_copy.info()\n"
   ]
  },
  {
   "cell_type": "code",
   "execution_count": 29,
   "metadata": {},
   "outputs": [
    {
     "name": "stdout",
     "output_type": "stream",
     "text": [
      "<class 'pandas.core.frame.DataFrame'>\n",
      "Index: 35 entries, 0 to 34\n",
      "Data columns (total 15 columns):\n",
      " #   Column  Non-Null Count  Dtype \n",
      "---  ------  --------------  ----- \n",
      " 0   team    35 non-null     object\n",
      " 1   GP      35 non-null     object\n",
      " 2   W       35 non-null     object\n",
      " 3   L       35 non-null     object\n",
      " 4   OL      35 non-null     object\n",
      " 5   PTS     35 non-null     object\n",
      " 6   PTS%    35 non-null     object\n",
      " 7   GF      35 non-null     object\n",
      " 8   GA      35 non-null     object\n",
      " 9   SRS     35 non-null     object\n",
      " 10  SOS     35 non-null     object\n",
      " 11  RPt%    35 non-null     object\n",
      " 12  ROW     35 non-null     object\n",
      " 13  year    35 non-null     int64 \n",
      " 14  League  35 non-null     object\n",
      "dtypes: int64(1), object(14)\n",
      "memory usage: 4.4+ KB\n"
     ]
    }
   ],
   "source": [
    "nhl_df_copy = nhl_df.copy()\n",
    "nhl_df_copy = nhl_df_copy[nhl_df_copy['year'] == 2018]\n",
    "nhl_df_copy['team'] = nhl_df_copy['team'].str.lower()\n",
    "nhl_df_copy['team'] = nhl_df_copy['team'].str.replace(r'\\[.*\\]', '', regex=True)\n",
    "nhl_df_copy['team'] = nhl_df_copy['team'].str.replace(r'\\*', '', regex=True)\n",
    "\n",
    "nhl_df_copy.info()"
   ]
  },
  {
   "cell_type": "code",
   "execution_count": 30,
   "metadata": {},
   "outputs": [],
   "source": [
    "cities_copy['NHL'] = cities_copy['NHL'].str.lower()\n",
    "cities_copy['Metropolitan area'] = cities_copy['Metropolitan area'].str.lower()\n",
    "cities_copy['NHL'] = cities_copy['NHL'].str.replace(r'\\[.*\\]', '', regex=True)\n",
    "cities_copy['NHL'] = cities_copy['NHL'].str.replace(r'\\*', '', regex=True)\n",
    "cities_copy['NHL'] = cities_copy['NHL'].replace(\"—\", np.nan)\n",
    "cities_copy['team'] = np.where(cities_copy['NHL'].notnull(), cities_copy['Metropolitan area'] + ' ' + cities_copy['NHL'], np.nan)\n",
    "#cities_copy['team'] = np.where((cities_copy['Metropolitan area'] == '—') | (cities_copy['NHL'] == '—'), np.nan, cities_copy['Metropolitan area'] + ' ' + cities_copy['NHL'])"
   ]
  },
  {
   "cell_type": "code",
   "execution_count": 31,
   "metadata": {},
   "outputs": [
    {
     "name": "stdout",
     "output_type": "stream",
     "text": [
      "<class 'pandas.core.frame.DataFrame'>\n",
      "RangeIndex: 35 entries, 0 to 34\n",
      "Data columns (total 21 columns):\n",
      " #   Column                     Non-Null Count  Dtype \n",
      "---  ------                     --------------  ----- \n",
      " 0   team                       35 non-null     object\n",
      " 1   GP                         35 non-null     object\n",
      " 2   W                          35 non-null     object\n",
      " 3   L                          35 non-null     object\n",
      " 4   OL                         35 non-null     object\n",
      " 5   PTS                        35 non-null     object\n",
      " 6   PTS%                       35 non-null     object\n",
      " 7   GF                         35 non-null     object\n",
      " 8   GA                         35 non-null     object\n",
      " 9   SRS                        35 non-null     object\n",
      " 10  SOS                        35 non-null     object\n",
      " 11  RPt%                       35 non-null     object\n",
      " 12  ROW                        35 non-null     object\n",
      " 13  year                       35 non-null     int64 \n",
      " 14  League                     35 non-null     object\n",
      " 15  Metropolitan area          16 non-null     object\n",
      " 16  Population (2016 est.)[8]  16 non-null     object\n",
      " 17  NFL                        16 non-null     object\n",
      " 18  MLB                        16 non-null     object\n",
      " 19  NBA                        16 non-null     object\n",
      " 20  NHL                        16 non-null     object\n",
      "dtypes: int64(1), object(20)\n",
      "memory usage: 5.9+ KB\n"
     ]
    }
   ],
   "source": [
    "merged_df = pd.merge(nhl_df_copy, cities_copy, how='left', left_on='team', right_on='team')\n",
    "merged_df.info()"
   ]
  },
  {
   "cell_type": "code",
   "execution_count": 32,
   "metadata": {},
   "outputs": [],
   "source": [
    "not_in_merged_df = nhl_df_copy[~nhl_df_copy['team'].isin(merged_df['team'])]\n"
   ]
  },
  {
   "cell_type": "code",
   "execution_count": 33,
   "metadata": {},
   "outputs": [
    {
     "name": "stdout",
     "output_type": "stream",
     "text": [
      "[]\n",
      "0\n"
     ]
    }
   ],
   "source": [
    "unique_not_merged_team = not_in_merged_df['team'].unique()\n",
    "\n",
    "print(unique_not_merged_team)\n",
    "print(len(unique_not_merged_team))"
   ]
  },
  {
   "cell_type": "code",
   "execution_count": 34,
   "metadata": {},
   "outputs": [],
   "source": [
    "equipos_nhl = {\n",
    "    'atlantic division': ['tampa bay lightning', 'florida panthers'],\n",
    "    'metropolitan division': ['washington capitals', 'new jersey devils', 'carolina hurricanes', 'new york islanders', 'new york rangers'],\n",
    "    'central division': ['minnesota wild', 'colorado avalanche', 'dallas stars'],\n",
    "    'pacific division': ['vegas golden knights', 'anaheim ducks', 'san jose sharks', 'los angeles kings', 'arizona coyotes']\n",
    "}"
   ]
  },
  {
   "cell_type": "code",
   "execution_count": 35,
   "metadata": {},
   "outputs": [
    {
     "data": {
      "text/html": [
       "<div>\n",
       "<style scoped>\n",
       "    .dataframe tbody tr th:only-of-type {\n",
       "        vertical-align: middle;\n",
       "    }\n",
       "\n",
       "    .dataframe tbody tr th {\n",
       "        vertical-align: top;\n",
       "    }\n",
       "\n",
       "    .dataframe thead th {\n",
       "        text-align: right;\n",
       "    }\n",
       "</style>\n",
       "<table border=\"1\" class=\"dataframe\">\n",
       "  <thead>\n",
       "    <tr style=\"text-align: right;\">\n",
       "      <th></th>\n",
       "      <th>Division</th>\n",
       "      <th>Equipo</th>\n",
       "      <th>Population (2016 est.)[8]</th>\n",
       "    </tr>\n",
       "  </thead>\n",
       "  <tbody>\n",
       "    <tr>\n",
       "      <th>0</th>\n",
       "      <td>atlantic division</td>\n",
       "      <td>tampa bay lightning</td>\n",
       "      <td>3357096</td>\n",
       "    </tr>\n",
       "    <tr>\n",
       "      <th>1</th>\n",
       "      <td>atlantic division</td>\n",
       "      <td>florida panthers</td>\n",
       "      <td>679127</td>\n",
       "    </tr>\n",
       "    <tr>\n",
       "      <th>2</th>\n",
       "      <td>metropolitan division</td>\n",
       "      <td>washington capitals</td>\n",
       "      <td>681170</td>\n",
       "    </tr>\n",
       "    <tr>\n",
       "      <th>3</th>\n",
       "      <td>metropolitan division</td>\n",
       "      <td>new jersey devils</td>\n",
       "      <td>894446</td>\n",
       "    </tr>\n",
       "    <tr>\n",
       "      <th>4</th>\n",
       "      <td>metropolitan division</td>\n",
       "      <td>carolina hurricanes</td>\n",
       "      <td>1130490</td>\n",
       "    </tr>\n",
       "    <tr>\n",
       "      <th>5</th>\n",
       "      <td>metropolitan division</td>\n",
       "      <td>new york islanders</td>\n",
       "      <td>2418990</td>\n",
       "    </tr>\n",
       "    <tr>\n",
       "      <th>6</th>\n",
       "      <td>metropolitan division</td>\n",
       "      <td>new york rangers</td>\n",
       "      <td>8537673</td>\n",
       "    </tr>\n",
       "    <tr>\n",
       "      <th>7</th>\n",
       "      <td>central division</td>\n",
       "      <td>minnesota wild</td>\n",
       "      <td>3551036</td>\n",
       "    </tr>\n",
       "    <tr>\n",
       "      <th>8</th>\n",
       "      <td>central division</td>\n",
       "      <td>colorado avalanche</td>\n",
       "      <td>4711142</td>\n",
       "    </tr>\n",
       "    <tr>\n",
       "      <th>9</th>\n",
       "      <td>central division</td>\n",
       "      <td>dallas stars</td>\n",
       "      <td>7233323</td>\n",
       "    </tr>\n",
       "    <tr>\n",
       "      <th>10</th>\n",
       "      <td>pacific division</td>\n",
       "      <td>vegas golden knights</td>\n",
       "      <td>632912</td>\n",
       "    </tr>\n",
       "    <tr>\n",
       "      <th>11</th>\n",
       "      <td>pacific division</td>\n",
       "      <td>anaheim ducks</td>\n",
       "      <td>1334891</td>\n",
       "    </tr>\n",
       "    <tr>\n",
       "      <th>12</th>\n",
       "      <td>pacific division</td>\n",
       "      <td>san jose sharks</td>\n",
       "      <td>1922200</td>\n",
       "    </tr>\n",
       "    <tr>\n",
       "      <th>13</th>\n",
       "      <td>pacific division</td>\n",
       "      <td>los angeles kings</td>\n",
       "      <td>10137915</td>\n",
       "    </tr>\n",
       "    <tr>\n",
       "      <th>14</th>\n",
       "      <td>pacific division</td>\n",
       "      <td>arizona coyotes</td>\n",
       "      <td>6392017</td>\n",
       "    </tr>\n",
       "  </tbody>\n",
       "</table>\n",
       "</div>"
      ],
      "text/plain": [
       "                 Division                Equipo  Population (2016 est.)[8]\n",
       "0       atlantic division   tampa bay lightning                    3357096\n",
       "1       atlantic division      florida panthers                     679127\n",
       "2   metropolitan division   washington capitals                     681170\n",
       "3   metropolitan division     new jersey devils                     894446\n",
       "4   metropolitan division   carolina hurricanes                    1130490\n",
       "5   metropolitan division    new york islanders                    2418990\n",
       "6   metropolitan division      new york rangers                    8537673\n",
       "7        central division        minnesota wild                    3551036\n",
       "8        central division    colorado avalanche                    4711142\n",
       "9        central division          dallas stars                    7233323\n",
       "10       pacific division  vegas golden knights                     632912\n",
       "11       pacific division         anaheim ducks                    1334891\n",
       "12       pacific division       san jose sharks                    1922200\n",
       "13       pacific division     los angeles kings                   10137915\n",
       "14       pacific division       arizona coyotes                    6392017"
      ]
     },
     "execution_count": 35,
     "metadata": {},
     "output_type": "execute_result"
    }
   ],
   "source": [
    "import pandas as pd\n",
    "\n",
    "# Diccionario con equipos de la NHL\n",
    "equipos_nhl = {\n",
    "    'atlantic division': ['tampa bay lightning', 'florida panthers'],\n",
    "    'metropolitan division': ['washington capitals', 'new jersey devils', 'carolina hurricanes', 'new york islanders', 'new york rangers'],\n",
    "    'central division': ['minnesota wild', 'colorado avalanche', 'dallas stars'],\n",
    "    'pacific division': ['vegas golden knights', 'anaheim ducks', 'san jose sharks', 'los angeles kings', 'arizona coyotes']\n",
    "}\n",
    "\n",
    "# Datos de población\n",
    "population_data = {\n",
    "    'tampa bay lightning': 3357096,\n",
    "    'florida panthers': 679127,\n",
    "    'washington capitals': 681170,\n",
    "    'new jersey devils': 894446,\n",
    "    'carolina hurricanes': 1130490,\n",
    "    'new york islanders': 2418990,\n",
    "    'new york rangers': 8537673,\n",
    "    'minnesota wild': 3551036,\n",
    "    'colorado avalanche': 4711142,\n",
    "    'dallas stars': 7233323,\n",
    "    'vegas golden knights': 632912,\n",
    "    'anaheim ducks': 1334891,\n",
    "    'san jose sharks': 1922200,\n",
    "    'los angeles kings': 10137915,\n",
    "    'arizona coyotes': 6392017\n",
    "}\n",
    "\n",
    "# Crear listas para construir el DataFrame\n",
    "divisiones = []\n",
    "equipos = []\n",
    "poblacion = []\n",
    "\n",
    "# Recorrer el diccionario para llenar las listas\n",
    "for division, equipos_lista in equipos_nhl.items():\n",
    "    for equipo in equipos_lista:\n",
    "        divisiones.append(division)\n",
    "        equipos.append(equipo)\n",
    "        poblacion.append(population_data.get(equipo.lower(), None))  # Obtener la población según el nombre del equipo\n",
    "\n",
    "# Crear el DataFrame\n",
    "df_equipos_faltantes_nhl = pd.DataFrame({\n",
    "    'Division': divisiones,\n",
    "    'Equipo': equipos,\n",
    "    'Population (2016 est.)[8]': poblacion\n",
    "})\n",
    "\n",
    "# Imprimir el DataFrame resultante\n",
    "df_equipos_faltantes_nhl\n"
   ]
  },
  {
   "cell_type": "code",
   "execution_count": 36,
   "metadata": {},
   "outputs": [
    {
     "name": "stdout",
     "output_type": "stream",
     "text": [
      "<class 'pandas.core.frame.DataFrame'>\n",
      "RangeIndex: 51 entries, 0 to 50\n",
      "Data columns (total 7 columns):\n",
      " #   Column                     Non-Null Count  Dtype \n",
      "---  ------                     --------------  ----- \n",
      " 0   Metropolitan area          51 non-null     object\n",
      " 1   Population (2016 est.)[8]  51 non-null     object\n",
      " 2   NFL                        51 non-null     object\n",
      " 3   MLB                        51 non-null     object\n",
      " 4   NBA                        51 non-null     object\n",
      " 5   NHL                        33 non-null     object\n",
      " 6   team                       33 non-null     object\n",
      "dtypes: object(7)\n",
      "memory usage: 2.9+ KB\n"
     ]
    }
   ],
   "source": [
    "cities_copy.info()"
   ]
  },
  {
   "cell_type": "code",
   "execution_count": 37,
   "metadata": {},
   "outputs": [],
   "source": [
    "areas_metropolitanas_unicas = set(cities_copy['Metropolitan area'].tolist())\n"
   ]
  },
  {
   "cell_type": "code",
   "execution_count": 38,
   "metadata": {},
   "outputs": [
    {
     "name": "stdout",
     "output_type": "stream",
     "text": [
      "Empty DataFrame\n",
      "Columns: [Metropolitan area, Population (2016 est.)[8], NFL, MLB, NBA, NHL, team]\n",
      "Index: []\n"
     ]
    }
   ],
   "source": [
    "todos_los_equipos = [equipo for equipos in equipos_nhl.values() for equipo in equipos]\n",
    "\n",
    "# Filtrar el DataFrame cities_copy para las filas donde 'Metropolitan area' está en la lista de ciudades de equipos\n",
    "equipos_ciudades_validas = cities_copy[cities_copy['Metropolitan area'].isin(todos_los_equipos)]\n",
    "\n",
    "# Imprimir el DataFrame resultante\n",
    "print(equipos_ciudades_validas)"
   ]
  },
  {
   "cell_type": "code",
   "execution_count": 39,
   "metadata": {},
   "outputs": [
    {
     "name": "stdout",
     "output_type": "stream",
     "text": [
      "Áreas metropolitanas del DataFrame no presentes en la lista proporcionada: ['new york city', 'los angeles', 'san francisco bay area', 'chicago', 'dallas–fort worth', 'washington, d.c.', 'philadelphia', 'boston', 'minneapolis–saint paul', 'denver', 'miami–fort lauderdale', 'phoenix', 'detroit', 'toronto', 'houston', 'atlanta', 'tampa bay area', 'pittsburgh', 'cleveland', 'seattle', 'cincinnati', 'kansas city', 'st. louis', 'baltimore', 'charlotte', 'indianapolis', 'nashville', 'milwaukee', 'new orleans', 'buffalo', 'montreal', 'vancouver', 'orlando', 'portland', 'columbus', 'calgary', 'ottawa', 'edmonton', 'salt lake city', 'winnipeg', 'san diego', 'san antonio', 'sacramento', 'las vegas', 'jacksonville', 'oklahoma city', 'memphis', 'raleigh', 'green bay', 'hamilton', 'regina']\n"
     ]
    }
   ],
   "source": [
    "# Lista de nombres de áreas metropolitanas\n",
    "metropolitan_areas = ['New York City', 'Los Angeles', 'San Francisco Bay Area', 'Chicago', 'Dallas–Fort Worth', 'Washington, D.C.', 'Philadelphia', 'Boston', 'Minneapolis–Saint Paul', 'Denver', 'Miami–Fort Lauderdale', 'Phoenix', 'Detroit', 'Toronto', 'Houston', 'Atlanta', 'Tampa Bay Area', 'Pittsburgh', 'Cleveland', 'Seattle', 'Cincinnati', 'Kansas City', 'St. Louis', 'Baltimore', 'Charlotte', 'Indianapolis', 'Nashville', 'Milwaukee', 'New Orleans', 'Buffalo', 'Montreal', 'Vancouver', 'Orlando', 'Portland', 'Columbus', 'Calgary', 'Ottawa', 'Edmonton', 'Salt Lake City', 'Winnipeg', 'San Diego', 'San Antonio', 'Sacramento', 'Las Vegas', 'Jacksonville', 'Oklahoma City', 'Memphis', 'Raleigh', 'Green Bay', 'Hamilton', 'Regina']\n",
    "\n",
    "# Extraer la columna 'Metropolitan area' del DataFrame cities_copy como una lista\n",
    "metropolitan_areas_df = cities_copy['Metropolitan area'].tolist()\n",
    "\n",
    "# Imprimir las áreas metropolitanas del DataFrame que no están en la lista proporcionada\n",
    "areas_no_en_lista = [area for area in metropolitan_areas_df if area not in metropolitan_areas]\n",
    "print(\"Áreas metropolitanas del DataFrame no presentes en la lista proporcionada:\", areas_no_en_lista)\n"
   ]
  },
  {
   "cell_type": "code",
   "execution_count": 40,
   "metadata": {},
   "outputs": [
    {
     "data": {
      "text/plain": [
       "['new york city',\n",
       " 'los angeles',\n",
       " 'san francisco bay area',\n",
       " 'chicago',\n",
       " 'dallas–fort worth',\n",
       " 'washington, d.c.',\n",
       " 'philadelphia',\n",
       " 'boston',\n",
       " 'minneapolis–saint paul',\n",
       " 'denver',\n",
       " 'miami–fort lauderdale',\n",
       " 'phoenix',\n",
       " 'detroit',\n",
       " 'toronto',\n",
       " 'houston',\n",
       " 'atlanta',\n",
       " 'tampa bay area',\n",
       " 'pittsburgh',\n",
       " 'cleveland',\n",
       " 'seattle',\n",
       " 'cincinnati',\n",
       " 'kansas city',\n",
       " 'st. louis',\n",
       " 'baltimore',\n",
       " 'charlotte',\n",
       " 'indianapolis',\n",
       " 'nashville',\n",
       " 'milwaukee',\n",
       " 'new orleans',\n",
       " 'buffalo',\n",
       " 'montreal',\n",
       " 'vancouver',\n",
       " 'orlando',\n",
       " 'portland',\n",
       " 'columbus',\n",
       " 'calgary',\n",
       " 'ottawa',\n",
       " 'edmonton',\n",
       " 'salt lake city',\n",
       " 'winnipeg',\n",
       " 'san diego',\n",
       " 'san antonio',\n",
       " 'sacramento',\n",
       " 'las vegas',\n",
       " 'jacksonville',\n",
       " 'oklahoma city',\n",
       " 'memphis',\n",
       " 'raleigh',\n",
       " 'green bay',\n",
       " 'hamilton',\n",
       " 'regina']"
      ]
     },
     "execution_count": 40,
     "metadata": {},
     "output_type": "execute_result"
    }
   ],
   "source": [
    "metropolitan_areas_lista = cities_copy['Metropolitan area'].tolist()\n",
    "metropolitan_areas_lista"
   ]
  },
  {
   "cell_type": "code",
   "execution_count": 41,
   "metadata": {
    "deletable": false,
    "nbgrader": {
     "cell_type": "code",
     "checksum": "1cac4803b02502929f5b1612d48db2b5",
     "grade": false,
     "grade_id": "cell-69b16e4386e58030",
     "locked": false,
     "schema_version": 3,
     "solution": true
    }
   },
   "outputs": [],
   "source": [
    "import pandas as pd\n",
    "import numpy as np\n",
    "import scipy.stats as stats\n",
    "import re\n",
    "\n",
    "nhl_df=pd.read_csv(\"assets/nhl.csv\")\n",
    "cities=pd.read_html(\"assets/wikipedia_data.html\")[1]\n",
    "cities=cities.iloc[:-1,[0,3,5,6,7,8]]\n",
    "\n",
    "def nhl_correlation(): \n",
    "    \n",
    "    correlation = np.corrcoef(dataset['win_loss_ratio'], dataset['population'])[0, 1]\n",
    "\n",
    "    # YOUR CODE HERE\n",
    "    raise NotImplementedError()\n",
    "    \n",
    "    population_by_region = [] # pass in metropolitan area population from cities\n",
    "    win_loss_by_region = [] # pass in win/loss ratio from nhl_df in the same order as cities[\"Metropolitan area\"]\n",
    "\n",
    "    assert len(population_by_region) == len(win_loss_by_region), \"Q1: Your lists must be the same length\"\n",
    "    assert len(population_by_region) == 28, \"Q1: There should be 28 teams being analysed for NHL\"\n",
    "    \n",
    "    return stats.pearsonr(population_by_region, win_loss_by_region)"
   ]
  },
  {
   "cell_type": "code",
   "execution_count": null,
   "metadata": {
    "deletable": false,
    "editable": false,
    "nbgrader": {
     "cell_type": "code",
     "checksum": "52a581df513c71153e105b93764cda4b",
     "grade": true,
     "grade_id": "cell-ebe0b2dfe1067e63",
     "locked": true,
     "points": 20,
     "schema_version": 3,
     "solution": false
    }
   },
   "outputs": [],
   "source": []
  },
  {
   "cell_type": "markdown",
   "metadata": {
    "deletable": false,
    "editable": false,
    "nbgrader": {
     "cell_type": "markdown",
     "checksum": "988912cae4968d81473f46d783e79c16",
     "grade": false,
     "grade_id": "cell-cb964e690298b71d",
     "locked": true,
     "schema_version": 3,
     "solution": false
    }
   },
   "source": [
    "## Question 2\n",
    "For this question, calculate the win/loss ratio's correlation with the population of the city it is in for the **NBA** using **2018** data."
   ]
  },
  {
   "cell_type": "code",
   "execution_count": 42,
   "metadata": {
    "deletable": false,
    "nbgrader": {
     "cell_type": "code",
     "checksum": "9394222aafc8ccab0a228098ba0d6010",
     "grade": false,
     "grade_id": "cell-5a5f21279e3d3572",
     "locked": false,
     "schema_version": 3,
     "solution": true
    }
   },
   "outputs": [],
   "source": [
    "import pandas as pd\n",
    "import numpy as np\n",
    "import scipy.stats as stats\n",
    "import re\n",
    "\n",
    "nba_df=pd.read_csv(\"assets/nba.csv\")\n",
    "cities=pd.read_html(\"assets/wikipedia_data.html\")[1]\n",
    "cities=cities.iloc[:-1,[0,3,5,6,7,8]]\n",
    "\n",
    "def nba_correlation():\n",
    "    # YOUR CODE HERE\n",
    "    raise NotImplementedError()\n",
    "    \n",
    "    population_by_region = [] # pass in metropolitan area population from cities\n",
    "    win_loss_by_region = [] # pass in win/loss ratio from nba_df in the same order as cities[\"Metropolitan area\"]\n",
    "\n",
    "    assert len(population_by_region) == len(win_loss_by_region), \"Q2: Your lists must be the same length\"\n",
    "    assert len(population_by_region) == 28, \"Q2: There should be 28 teams being analysed for NBA\"\n",
    "\n",
    "    return stats.pearsonr(population_by_region, win_loss_by_region)"
   ]
  },
  {
   "cell_type": "code",
   "execution_count": null,
   "metadata": {
    "deletable": false,
    "editable": false,
    "nbgrader": {
     "cell_type": "code",
     "checksum": "bbdeb8eb22f525a34c10dc8798324e42",
     "grade": true,
     "grade_id": "cell-e573b2b4a282b470",
     "locked": true,
     "points": 20,
     "schema_version": 3,
     "solution": false
    }
   },
   "outputs": [],
   "source": []
  },
  {
   "cell_type": "markdown",
   "metadata": {
    "deletable": false,
    "editable": false,
    "nbgrader": {
     "cell_type": "markdown",
     "checksum": "1a1a5809f675ca033086422007cd73bd",
     "grade": false,
     "grade_id": "cell-96e15e4335df78f4",
     "locked": true,
     "schema_version": 3,
     "solution": false
    }
   },
   "source": [
    "## Question 3\n",
    "For this question, calculate the win/loss ratio's correlation with the population of the city it is in for the **MLB** using **2018** data."
   ]
  },
  {
   "cell_type": "code",
   "execution_count": 43,
   "metadata": {
    "deletable": false,
    "nbgrader": {
     "cell_type": "code",
     "checksum": "27e8c0da6c9fa0dffc10488314335b6c",
     "grade": false,
     "grade_id": "cell-33b00fc3f3467b0c",
     "locked": false,
     "schema_version": 3,
     "solution": true
    }
   },
   "outputs": [],
   "source": [
    "import pandas as pd\n",
    "import numpy as np\n",
    "import scipy.stats as stats\n",
    "import re\n",
    "\n",
    "mlb_df=pd.read_csv(\"assets/mlb.csv\")\n",
    "cities=pd.read_html(\"assets/wikipedia_data.html\")[1]\n",
    "cities=cities.iloc[:-1,[0,3,5,6,7,8]]\n",
    "\n",
    "def mlb_correlation(): \n",
    "    # YOUR CODE HERE\n",
    "    raise NotImplementedError()\n",
    "    \n",
    "    population_by_region = [] # pass in metropolitan area population from cities\n",
    "    win_loss_by_region = [] # pass in win/loss ratio from mlb_df in the same order as cities[\"Metropolitan area\"]\n",
    "\n",
    "    assert len(population_by_region) == len(win_loss_by_region), \"Q3: Your lists must be the same length\"\n",
    "    assert len(population_by_region) == 26, \"Q3: There should be 26 teams being analysed for MLB\"\n",
    "\n",
    "    return stats.pearsonr(population_by_region, win_loss_by_region)"
   ]
  },
  {
   "cell_type": "code",
   "execution_count": null,
   "metadata": {
    "deletable": false,
    "editable": false,
    "nbgrader": {
     "cell_type": "code",
     "checksum": "cda33b094ba19ccc37a481e0dd29e0bc",
     "grade": true,
     "grade_id": "cell-764d4476f425c5a2",
     "locked": true,
     "points": 20,
     "schema_version": 3,
     "solution": false
    }
   },
   "outputs": [],
   "source": []
  },
  {
   "cell_type": "markdown",
   "metadata": {
    "deletable": false,
    "editable": false,
    "nbgrader": {
     "cell_type": "markdown",
     "checksum": "6977a6da9ed6d8b7a0b7e37bbeda709b",
     "grade": false,
     "grade_id": "cell-793df6c04dfb126e",
     "locked": true,
     "schema_version": 3,
     "solution": false
    }
   },
   "source": [
    "## Question 4\n",
    "For this question, calculate the win/loss ratio's correlation with the population of the city it is in for the **NFL** using **2018** data."
   ]
  },
  {
   "cell_type": "code",
   "execution_count": 44,
   "metadata": {
    "deletable": false,
    "nbgrader": {
     "cell_type": "code",
     "checksum": "c4914ad1e119278ec2bd567c52640b66",
     "grade": false,
     "grade_id": "cell-8ccebc209aeec8d9",
     "locked": false,
     "schema_version": 3,
     "solution": true
    }
   },
   "outputs": [],
   "source": [
    "import pandas as pd\n",
    "import numpy as np\n",
    "import scipy.stats as stats\n",
    "import re\n",
    "\n",
    "nfl_df=pd.read_csv(\"assets/nfl.csv\")\n",
    "cities=pd.read_html(\"assets/wikipedia_data.html\")[1]\n",
    "cities=cities.iloc[:-1,[0,3,5,6,7,8]]\n",
    "\n",
    "def nfl_correlation(): \n",
    "    # YOUR CODE HERE\n",
    "    raise NotImplementedError()\n",
    "    \n",
    "    population_by_region = [] # pass in metropolitan area population from cities\n",
    "    win_loss_by_region = [] # pass in win/loss ratio from nfl_df in the same order as cities[\"Metropolitan area\"]\n",
    "\n",
    "    assert len(population_by_region) == len(win_loss_by_region), \"Q4: Your lists must be the same length\"\n",
    "    assert len(population_by_region) == 29, \"Q4: There should be 29 teams being analysed for NFL\"\n",
    "\n",
    "    return stats.pearsonr(population_by_region, win_loss_by_region)"
   ]
  },
  {
   "cell_type": "code",
   "execution_count": null,
   "metadata": {
    "deletable": false,
    "editable": false,
    "nbgrader": {
     "cell_type": "code",
     "checksum": "e9415d6399aa49e3a1a60813afdefa3b",
     "grade": true,
     "grade_id": "cell-de7b148b9554dbda",
     "locked": true,
     "points": 20,
     "schema_version": 3,
     "solution": false
    }
   },
   "outputs": [],
   "source": []
  },
  {
   "cell_type": "markdown",
   "metadata": {
    "deletable": false,
    "editable": false,
    "nbgrader": {
     "cell_type": "markdown",
     "checksum": "b02d5cd3273f561e4ae939bb2a41740c",
     "grade": false,
     "grade_id": "cell-97b49d8639e908c4",
     "locked": true,
     "schema_version": 3,
     "solution": false
    }
   },
   "source": [
    "## Question 5\n",
    "In this question I would like you to explore the hypothesis that **given that an area has two sports teams in different sports, those teams will perform the same within their respective sports**. How I would like to see this explored is with a series of paired t-tests (so use [`ttest_rel`](https://docs.scipy.org/doc/scipy/reference/generated/scipy.stats.ttest_rel.html)) between all pairs of sports. Are there any sports where we can reject the null hypothesis? Again, average values where a sport has multiple teams in one region. Remember, you will only be including, for each sport, cities which have teams engaged in that sport, drop others as appropriate. This question is worth 20% of the grade for this assignment."
   ]
  },
  {
   "cell_type": "code",
   "execution_count": 45,
   "metadata": {
    "deletable": false,
    "nbgrader": {
     "cell_type": "code",
     "checksum": "6d78c961eb66f8d8c81f06d33ae8f393",
     "grade": false,
     "grade_id": "cell-92f25f44b8d1179f",
     "locked": false,
     "schema_version": 3,
     "solution": true
    }
   },
   "outputs": [],
   "source": [
    "import pandas as pd\n",
    "import numpy as np\n",
    "import scipy.stats as stats\n",
    "import re\n",
    "\n",
    "mlb_df=pd.read_csv(\"assets/mlb.csv\")\n",
    "nhl_df=pd.read_csv(\"assets/nhl.csv\")\n",
    "nba_df=pd.read_csv(\"assets/nba.csv\")\n",
    "nfl_df=pd.read_csv(\"assets/nfl.csv\")\n",
    "cities=pd.read_html(\"assets/wikipedia_data.html\")[1]\n",
    "cities=cities.iloc[:-1,[0,3,5,6,7,8]]\n",
    "\n",
    "def sports_team_performance():\n",
    "    # YOUR CODE HERE\n",
    "    raise NotImplementedError()\n",
    "    \n",
    "    # Note: p_values is a full dataframe, so df.loc[\"NFL\",\"NBA\"] should be the same as df.loc[\"NBA\",\"NFL\"] and\n",
    "    # df.loc[\"NFL\",\"NFL\"] should return np.nan\n",
    "    sports = ['NFL', 'NBA', 'NHL', 'MLB']\n",
    "    p_values = pd.DataFrame({k:np.nan for k in sports}, index=sports)\n",
    "    \n",
    "    assert abs(p_values.loc[\"NBA\", \"NHL\"] - 0.02) <= 1e-2, \"The NBA-NHL p-value should be around 0.02\"\n",
    "    assert abs(p_values.loc[\"MLB\", \"NFL\"] - 0.80) <= 1e-2, \"The MLB-NFL p-value should be around 0.80\"\n",
    "    return p_values"
   ]
  },
  {
   "cell_type": "code",
   "execution_count": null,
   "metadata": {
    "deletable": false,
    "editable": false,
    "nbgrader": {
     "cell_type": "code",
     "checksum": "2a596ab421a45cc01168d10e8fbb8f89",
     "grade": true,
     "grade_id": "cell-fb4b9cb5ff4570a6",
     "locked": true,
     "points": 20,
     "schema_version": 3,
     "solution": false
    }
   },
   "outputs": [],
   "source": []
  }
 ],
 "metadata": {
  "kernelspec": {
   "display_name": "Python 3 (ipykernel)",
   "language": "python",
   "name": "python3"
  },
  "language_info": {
   "codemirror_mode": {
    "name": "ipython",
    "version": 3
   },
   "file_extension": ".py",
   "mimetype": "text/x-python",
   "name": "python",
   "nbconvert_exporter": "python",
   "pygments_lexer": "ipython3",
   "version": "3.11.4"
  }
 },
 "nbformat": 4,
 "nbformat_minor": 4
}
