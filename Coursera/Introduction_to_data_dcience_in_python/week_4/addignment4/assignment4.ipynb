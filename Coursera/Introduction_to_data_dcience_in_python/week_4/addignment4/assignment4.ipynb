{
 "cells": [
  {
   "cell_type": "markdown",
   "metadata": {
    "deletable": false,
    "editable": false,
    "etc_identifier": "653a3605-5bda-4e1f-beef-04a0173d3f41",
    "nbgrader": {
     "cell_type": "markdown",
     "checksum": "60da2e57814a61cf6a81dd670bf35473",
     "grade": false,
     "grade_id": "cell-a6c4f74309fc2379",
     "locked": true,
     "schema_version": 3,
     "solution": false
    }
   },
   "source": [
    "# Assignment 4\n",
    "## Description\n",
    "In this assignment you must read in a file of metropolitan regions and associated sports teams from [assets/wikipedia_data.html](assets/wikipedia_data.html) and answer some questions about each metropolitan region. Each of these regions may have one or more teams from the \"Big 4\": NFL (football, in [assets/nfl.csv](assets/nfl.csv)), MLB (baseball, in [assets/mlb.csv](assets/mlb.csv)), NBA (basketball, in [assets/nba.csv](assets/nba.csv) or NHL (hockey, in [assets/nhl.csv](assets/nhl.csv)). Please keep in mind that all questions are from the perspective of the metropolitan region, and that this file is the \"source of authority\" for the location of a given sports team. Thus teams which are commonly known by a different area (e.g. \"Oakland Raiders\") need to be mapped into the metropolitan region given (e.g. San Francisco Bay Area). This will require some human data understanding outside of the data you've been given (e.g. you will have to hand-code some names, and might need to google to find out where teams are)!\n",
    "\n",
    "For each sport I would like you to answer the question: **what is the win/loss ratio's correlation with the population of the city it is in?** Win/Loss ratio refers to the number of wins over the number of wins plus the number of losses. Remember that to calculate the correlation with [`pearsonr`](https://docs.scipy.org/doc/scipy/reference/generated/scipy.stats.pearsonr.html), so you are going to send in two ordered lists of values, the populations from the wikipedia_data.html file and the win/loss ratio for a given sport in the same order. Average the win/loss ratios for those cities which have multiple teams of a single sport. Each sport is worth an equal amount in this assignment (20%\\*4=80%) of the grade for this assignment. You should only use data **from year 2018** for your analysis -- this is important!\n",
    "\n",
    "## Notes\n",
    "\n",
    "1. Do not include data about the MLS or CFL in any of the work you are doing, we're only interested in the Big 4 in this assignment.\n",
    "2. I highly suggest that you first tackle the four correlation questions in order, as they are all similar and worth the majority of grades for this assignment. This is by design!\n",
    "3. It's fair game to talk with peers about high level strategy as well as the relationship between metropolitan areas and sports teams. However, do not post code solving aspects of the assignment (including such as dictionaries mapping areas to teams, or regexes which will clean up names).\n",
    "4. There may be more teams than the assert statements test, remember to collapse multiple teams in one city into a single value!\n",
    "\n",
    "As this assignment utilizes global variables in the skeleton code, to avoid having errors in your code you can either:\n",
    "\n",
    "1. You can place all of your code within the function definitions for all of the questions (other than import statements).\n",
    "2. You can create copies of all the global variables with the copy() method and proceed as usual."
   ]
  },
  {
   "cell_type": "markdown",
   "metadata": {
    "deletable": false,
    "editable": false,
    "nbgrader": {
     "cell_type": "markdown",
     "checksum": "369ff9ecf0ee04640574205cbc697f94",
     "grade": false,
     "grade_id": "cell-712b2b5da63d4505",
     "locked": true,
     "schema_version": 3,
     "solution": false
    }
   },
   "source": [
    "## Question 1\n",
    "For this question, calculate the win/loss ratio's correlation with the population of the city it is in for the **NHL** using **2018** data."
   ]
  },
  {
   "cell_type": "code",
   "execution_count": 58,
   "metadata": {},
   "outputs": [
    {
     "name": "stderr",
     "output_type": "stream",
     "text": [
      "/tmp/ipykernel_20861/3463272085.py:17: SettingWithCopyWarning: \n",
      "A value is trying to be set on a copy of a slice from a DataFrame.\n",
      "Try using .loc[row_indexer,col_indexer] = value instead\n",
      "\n",
      "See the caveats in the documentation: https://pandas.pydata.org/pandas-docs/stable/user_guide/indexing.html#returning-a-view-versus-a-copy\n",
      "  population['Metropolitan area']=population['Metropolitan area'].str.strip()\n",
      "/tmp/ipykernel_20861/3463272085.py:18: SettingWithCopyWarning: \n",
      "A value is trying to be set on a copy of a slice from a DataFrame\n",
      "\n",
      "See the caveats in the documentation: https://pandas.pydata.org/pandas-docs/stable/user_guide/indexing.html#returning-a-view-versus-a-copy\n",
      "  population.rename(columns={'Population (2016 est.)[8]':'Population'},inplace=True)\n"
     ]
    },
    {
     "data": {
      "text/plain": [
       "0.012308996455744264"
      ]
     },
     "execution_count": 58,
     "metadata": {},
     "output_type": "execute_result"
    }
   ],
   "source": [
    "import pandas as pd\n",
    "import numpy as np\n",
    "import scipy.stats as stats\n",
    "import re\n",
    "\n",
    "def get_area(team):\n",
    "    for each in list(nhl_cities.index.values):\n",
    "        if team in each:\n",
    "            return nhl_cities.at[each, 'Metropolitan area']\n",
    "\n",
    "\n",
    "nhl_df=pd.read_csv(\"assets/nhl.csv\")\n",
    "cities=pd.read_html(\"assets/wikipedia_data.html\")[1]\n",
    "cities=cities.iloc[:-1,[0,3,5,6,7,8]]\n",
    "\n",
    "population =cities[['Metropolitan area', 'Population (2016 est.)[8]']]\n",
    "population['Metropolitan area']=population['Metropolitan area'].str.strip()\n",
    "population.rename(columns={'Population (2016 est.)[8]':'Population'},inplace=True)\n",
    "population = population.set_index('Metropolitan area')\n",
    "cities['NHL'].replace(r'(.*)\\[.*\\].*|[-—]',r'\\1',regex=True, inplace=True)\n",
    "cities['NHL'].replace('', np.nan, inplace=True)\n",
    "cities.dropna(inplace=True)\n",
    "\n",
    "nhl_cities = cities[['Metropolitan area', 'NHL']].set_index('NHL')\n",
    "\n",
    "nhl_df= nhl_df[nhl_df['year'] == 2018].drop([0, 9, 18, 26], axis=0).drop(['League','year','RPt%','ROW','PTS%','PTS',\n",
    "                                                                          'GP','OL','GF','GA','SRS','SOS'],axis=1)\n",
    "nhl_df['team'].replace(r'(.*)[\\*].*',r\"\\1\".strip(),regex=True, inplace=True)\n",
    "nhl_df['Area']=nhl_df['team'].str.split(\" \").str[-1:]\n",
    "#print(nhl_df['Area'].str[0])\n",
    "nhl_df[\"Area\"]= nhl_df[\"Area\"].str[0]\n",
    "nhl_df['Area'] = nhl_df['Area'].apply(lambda x: get_area(x))\n",
    "\n",
    "nhl_df[['W','L']] = nhl_df[['W','L']].apply(pd.to_numeric, axis=1)\n",
    "\n",
    "nhl_df=nhl_df.groupby('Area').sum()\n",
    "nhl_df.eval(\"Ratio =W / (W + L)\", inplace=True)\n",
    "\n",
    "nhl_df.drop(['W','L'], axis=1,inplace=True)\n",
    "out_df = pd.merge(nhl_df, population, how=\"inner\", left_index=True, right_index=True)\n",
    "out_df['Population']=pd.to_numeric(out_df['Population'])\n",
    "#print(nhl_df)\n",
    "\n",
    "def nhl_correlation(): \n",
    "        \n",
    "    population_by_region = out_df['Population'] # pass in metropolitan area population from cities\n",
    "    win_loss_by_region =out_df['Ratio']  # pass in win/loss ratio from nhl_df in the same order as cities[\"Metropolitan area\"]\n",
    "\n",
    "    assert len(population_by_region) == len(win_loss_by_region), \"Q1: Your lists must be the same length\"\n",
    "    assert len(population_by_region) == 28, \"Q1: There should be 28 teams being analysed for NHL\"\n",
    "    return stats.pearsonr(population_by_region, win_loss_by_region)[0]\n",
    "\n",
    "nhl_correlation()"
   ]
  },
  {
   "cell_type": "markdown",
   "metadata": {
    "deletable": false,
    "editable": false,
    "nbgrader": {
     "cell_type": "markdown",
     "checksum": "988912cae4968d81473f46d783e79c16",
     "grade": false,
     "grade_id": "cell-cb964e690298b71d",
     "locked": true,
     "schema_version": 3,
     "solution": false
    }
   },
   "source": [
    "## Question 2\n",
    "For this question, calculate the win/loss ratio's correlation with the population of the city it is in for the **NBA** using **2018** data."
   ]
  },
  {
   "cell_type": "code",
   "execution_count": 46,
   "metadata": {
    "deletable": false,
    "nbgrader": {
     "cell_type": "code",
     "checksum": "9394222aafc8ccab0a228098ba0d6010",
     "grade": false,
     "grade_id": "cell-5a5f21279e3d3572",
     "locked": false,
     "schema_version": 3,
     "solution": true
    }
   },
   "outputs": [],
   "source": [
    "import pandas as pd\n",
    "import numpy as np\n",
    "import scipy.stats as stats\n",
    "import re\n",
    "\n",
    "nba_df=pd.read_csv(\"assets/nba.csv\")\n",
    "cities=pd.read_html(\"assets/wikipedia_data.html\")[1]\n",
    "cities=cities.iloc[:-1,[0,3,5,6,7,8]]\n",
    "\n",
    "def nba_correlation():\n",
    "    # YOUR CODE HERE\n",
    "    raise NotImplementedError()\n",
    "    \n",
    "    population_by_region = [] # pass in metropolitan area population from cities\n",
    "    win_loss_by_region = [] # pass in win/loss ratio from nba_df in the same order as cities[\"Metropolitan area\"]\n",
    "\n",
    "    assert len(population_by_region) == len(win_loss_by_region), \"Q2: Your lists must be the same length\"\n",
    "    assert len(population_by_region) == 28, \"Q2: There should be 28 teams being analysed for NBA\"\n",
    "\n",
    "    return stats.pearsonr(population_by_region, win_loss_by_region)"
   ]
  },
  {
   "cell_type": "code",
   "execution_count": 47,
   "metadata": {
    "deletable": false,
    "editable": false,
    "nbgrader": {
     "cell_type": "code",
     "checksum": "bbdeb8eb22f525a34c10dc8798324e42",
     "grade": true,
     "grade_id": "cell-e573b2b4a282b470",
     "locked": true,
     "points": 20,
     "schema_version": 3,
     "solution": false
    }
   },
   "outputs": [
    {
     "name": "stderr",
     "output_type": "stream",
     "text": [
      "/tmp/ipykernel_20861/1784432024.py:16: SettingWithCopyWarning: \n",
      "A value is trying to be set on a copy of a slice from a DataFrame.\n",
      "Try using .loc[row_indexer,col_indexer] = value instead\n",
      "\n",
      "See the caveats in the documentation: https://pandas.pydata.org/pandas-docs/stable/user_guide/indexing.html#returning-a-view-versus-a-copy\n",
      "  population['Metropolitan area']=population['Metropolitan area'].str.strip()\n",
      "/tmp/ipykernel_20861/1784432024.py:17: SettingWithCopyWarning: \n",
      "A value is trying to be set on a copy of a slice from a DataFrame\n",
      "\n",
      "See the caveats in the documentation: https://pandas.pydata.org/pandas-docs/stable/user_guide/indexing.html#returning-a-view-versus-a-copy\n",
      "  population.rename(columns={'Population (2016 est.)[8]':'Population'},inplace=True)\n"
     ]
    },
    {
     "data": {
      "text/plain": [
       "-0.17657160252844614"
      ]
     },
     "execution_count": 47,
     "metadata": {},
     "output_type": "execute_result"
    }
   ],
   "source": [
    "import pandas as pd\n",
    "import numpy as np\n",
    "import scipy.stats as stats\n",
    "import re\n",
    "\n",
    "def gets_area(team):\n",
    "    for each in list(nba_cities.index.values):\n",
    "        if  team in each: return nba_cities.at[each, 'Metropolitan area']\n",
    "\n",
    "    \n",
    "nba_df=pd.read_csv(\"assets/nba.csv\")\n",
    "cities=pd.read_html(\"assets/wikipedia_data.html\")[1]\n",
    "cities=cities.iloc[:-1,[0,3,5,6,7,8]]\n",
    "\n",
    "population =cities[['Metropolitan area', 'Population (2016 est.)[8]']]\n",
    "population['Metropolitan area']=population['Metropolitan area'].str.strip()\n",
    "population.rename(columns={'Population (2016 est.)[8]':'Population'},inplace=True)\n",
    "population = population.set_index('Metropolitan area')\n",
    "\n",
    "cities['NBA'].replace(r'(.*)\\[.*\\].*|[-—]',r'\\1',regex=True, inplace=True)\n",
    "cities['NBA'].replace('—', np.nan, inplace=True)\n",
    "cities['NBA']=cities['NBA'].str.strip('—').str.strip(' ')\n",
    "cities['NBA'].replace('', np.nan, inplace=True)\n",
    "cities.dropna(inplace=True)\n",
    "\n",
    "\n",
    "nba_cities = cities[['Metropolitan area', 'NBA']].set_index('NBA')\n",
    "\n",
    "nba_df=nba_df[nba_df['year']==2018].drop(['W/L%','GB','PS/G','PA/G','SRS', 'League','year'],axis=1)\n",
    "nba_df['team'].replace(r'(.*)[\\*]|[\\(].*',r\"\\1\".strip(),regex=True, inplace=True)\n",
    "nba_df[['team','W','L']]=nba_df[['team','W','L']].apply(lambda x: x.str.strip())\n",
    "\n",
    "nba_df['Area']=nba_df['team'].str.split(\" \").str[-1:]\n",
    "nba_df[\"Area\"]= nba_df[\"Area\"].str[0]\n",
    "nba_df['Area'] = nba_df['Area'].apply(lambda x: gets_area(x))\n",
    "#print(nba_df)\n",
    "nba_df[['W','L']] = nba_df[['W','L']].apply(pd.to_numeric, axis=1)\n",
    "nba_df=nba_df.groupby('Area').sum()\n",
    "nba_df.eval(\"Ratio =W / (W + L)\", inplace=True)\n",
    "nba_df.drop(['W','L'], axis=1,inplace=True)\n",
    "\n",
    "out_df = pd.merge(nba_df, population, how=\"inner\", left_index=True, right_index=True)\n",
    "out_df['Population']=pd.to_numeric(out_df['Population'])\n",
    "#print(out_df)\n",
    "\n",
    "def nba_correlation():\n",
    "    # YOUR CODE HERE\n",
    "    #raise NotImplementedError()\n",
    "    \n",
    "    population_by_region = out_df['Population'] # pass in metropolitan area population from cities\n",
    "    win_loss_by_region = out_df['Ratio'] # pass in win/loss ratio from nba_df in the same order as cities[\"Metropolitan area\"]\n",
    "\n",
    "    \n",
    "    assert len(population_by_region) == len(win_loss_by_region), \"Q2: Your lists must be the same length\"\n",
    "    assert len(population_by_region) == 28, \"Q2: There should be 28 teams being analysed for NBA\"\n",
    "\n",
    "    return stats.pearsonr(population_by_region, win_loss_by_region)[0]\n",
    "nba_correlation()"
   ]
  },
  {
   "cell_type": "markdown",
   "metadata": {
    "deletable": false,
    "editable": false,
    "nbgrader": {
     "cell_type": "markdown",
     "checksum": "1a1a5809f675ca033086422007cd73bd",
     "grade": false,
     "grade_id": "cell-96e15e4335df78f4",
     "locked": true,
     "schema_version": 3,
     "solution": false
    }
   },
   "source": [
    "## Question 3\n",
    "For this question, calculate the win/loss ratio's correlation with the population of the city it is in for the **MLB** using **2018** data."
   ]
  },
  {
   "cell_type": "code",
   "execution_count": 48,
   "metadata": {
    "deletable": false,
    "nbgrader": {
     "cell_type": "code",
     "checksum": "27e8c0da6c9fa0dffc10488314335b6c",
     "grade": false,
     "grade_id": "cell-33b00fc3f3467b0c",
     "locked": false,
     "schema_version": 3,
     "solution": true
    }
   },
   "outputs": [
    {
     "name": "stderr",
     "output_type": "stream",
     "text": [
      "/tmp/ipykernel_20861/2210882073.py:17: SettingWithCopyWarning: \n",
      "A value is trying to be set on a copy of a slice from a DataFrame.\n",
      "Try using .loc[row_indexer,col_indexer] = value instead\n",
      "\n",
      "See the caveats in the documentation: https://pandas.pydata.org/pandas-docs/stable/user_guide/indexing.html#returning-a-view-versus-a-copy\n",
      "  population['Metropolitan area']=population['Metropolitan area'].str.strip()\n",
      "/tmp/ipykernel_20861/2210882073.py:18: SettingWithCopyWarning: \n",
      "A value is trying to be set on a copy of a slice from a DataFrame\n",
      "\n",
      "See the caveats in the documentation: https://pandas.pydata.org/pandas-docs/stable/user_guide/indexing.html#returning-a-view-versus-a-copy\n",
      "  population.rename(columns={'Population (2016 est.)[8]':'Population'},inplace=True)\n"
     ]
    },
    {
     "data": {
      "text/plain": [
       "0.1505230448710485"
      ]
     },
     "execution_count": 48,
     "metadata": {},
     "output_type": "execute_result"
    }
   ],
   "source": [
    "import pandas as pd\n",
    "import numpy as np\n",
    "import scipy.stats as stats\n",
    "import re\n",
    "\n",
    "def gets_area(team):\n",
    "    for each in list(mlb_cities.index.values):\n",
    "        if  team in each: return mlb_cities.at[each, 'Metropolitan area']\n",
    "        \n",
    "mlb_df=pd.read_csv(\"assets/mlb.csv\")\n",
    "cities=pd.read_html(\"assets/wikipedia_data.html\")[1]\n",
    "cities=cities.iloc[:-1,[0,3,5,6,7,8]]\n",
    "#cities.to_excel(\"cities_before.xlsx\")\n",
    "#print(cities)\n",
    "\n",
    "population =cities[['Metropolitan area', 'Population (2016 est.)[8]']]\n",
    "population['Metropolitan area']=population['Metropolitan area'].str.strip()\n",
    "population.rename(columns={'Population (2016 est.)[8]':'Population'},inplace=True)\n",
    "population = population.set_index('Metropolitan area')\n",
    "\n",
    "cities['MLB'].replace(r'(.*)\\[.*\\].*|[-—]',r'\\1',regex=True, inplace=True)\n",
    "cities['MLB'].replace('—', np.nan, inplace=True)\n",
    "cities['MLB']=cities['MLB'].str.strip('—').str.strip(' ')\n",
    "cities['MLB'].replace('', np.nan, inplace=True)\n",
    "#cities.to_excel('asdsad.xlsx')\n",
    "cities.dropna(inplace=True)\n",
    "\n",
    "mlb_cities = cities[['Metropolitan area', 'MLB']].set_index('MLB')\n",
    "#print(mlb_cities)\n",
    "\n",
    "mlb_df=mlb_df[mlb_df['year']==2018].drop(['GB','W-L%','League','year'],axis=1)\n",
    "#mlb_df.to_excel(\"mlb_df.xlsx\")\n",
    "\n",
    "mlb_df['team'].replace(r'(.*)[\\*]|[\\(].*',r\"\\1\".strip(),regex=True, inplace=True)\n",
    "mlb_df[['team']]=mlb_df[['team']].apply(lambda x: x.str.strip())\n",
    "mlb_df['Area']=mlb_df['team'].str.split(\" \").str[-1:]\n",
    "mlb_df[\"Area\"]= mlb_df[\"Area\"].str[0]\n",
    "mlb_df['Area'] = mlb_df['Area'].apply(lambda x: gets_area(x))\n",
    "#print(mlb_df)\n",
    "mlb_df.loc[0,'Area']='Boston'\n",
    "#if mlb_df['team']== 'Boston Red Sox': \n",
    "#    print(mlb_df)\n",
    "#    mlb_df['Area']=\"Boston\"\n",
    "    \n",
    "#mlb_df.to_excel(\"mlb_dfs.xlsx\")\n",
    "#print(mlb_df)\n",
    "#mlb_df.rename(columns=lambda x: x.strip())\n",
    "mlb_df[['W','L']] = mlb_df[['W','L']].apply(pd.to_numeric, axis=1)\n",
    "mlb_df=mlb_df.groupby('Area').sum()\n",
    "#print(len(mlb_df))\n",
    "mlb_df.eval(\"Ratio =W / (W + L)\", inplace=True)\n",
    "mlb_df.drop(['W','L'], axis=1,inplace=True)\n",
    "\n",
    "\n",
    "#mlb_df.to_excel(\"mlb-modified.xlsx\")\n",
    "#print(len(mlb_df))\n",
    "\n",
    "#print(mlb_df)\n",
    "out_df = pd.merge(mlb_df, population, how=\"inner\", left_index=True, right_index=True)\n",
    "out_df['Population']=pd.to_numeric(out_df['Population'])\n",
    "\n",
    "#print(out_df)\n",
    "def mlb_correlation(): \n",
    "    # YOUR CODE HERE\n",
    "    #raise NotImplementedError()\n",
    "    \n",
    "    population_by_region = out_df['Population'] # pass in metropolitan area population from cities\n",
    "    win_loss_by_region =out_df['Ratio'] # pass in win/loss ratio from mlb_df in the same order as cities[\"Metropolitan area\"]\n",
    "    assert len(population_by_region) == len(win_loss_by_region), \"Q3: Your lists must be the same length\"\n",
    "    assert len(population_by_region) == 26, \"Q3: There should be 26 teams being analysed for MLB\"\n",
    "    return stats.pearsonr(population_by_region, win_loss_by_region)[0]\n",
    "mlb_correlation() "
   ]
  },
  {
   "cell_type": "code",
   "execution_count": null,
   "metadata": {
    "deletable": false,
    "editable": false,
    "nbgrader": {
     "cell_type": "code",
     "checksum": "cda33b094ba19ccc37a481e0dd29e0bc",
     "grade": true,
     "grade_id": "cell-764d4476f425c5a2",
     "locked": true,
     "points": 20,
     "schema_version": 3,
     "solution": false
    }
   },
   "outputs": [],
   "source": []
  },
  {
   "cell_type": "markdown",
   "metadata": {
    "deletable": false,
    "editable": false,
    "nbgrader": {
     "cell_type": "markdown",
     "checksum": "6977a6da9ed6d8b7a0b7e37bbeda709b",
     "grade": false,
     "grade_id": "cell-793df6c04dfb126e",
     "locked": true,
     "schema_version": 3,
     "solution": false
    }
   },
   "source": [
    "## Question 4\n",
    "For this question, calculate the win/loss ratio's correlation with the population of the city it is in for the **NFL** using **2018** data."
   ]
  },
  {
   "cell_type": "code",
   "execution_count": 49,
   "metadata": {
    "deletable": false,
    "nbgrader": {
     "cell_type": "code",
     "checksum": "c4914ad1e119278ec2bd567c52640b66",
     "grade": false,
     "grade_id": "cell-8ccebc209aeec8d9",
     "locked": false,
     "schema_version": 3,
     "solution": true
    }
   },
   "outputs": [
    {
     "name": "stderr",
     "output_type": "stream",
     "text": [
      "/tmp/ipykernel_20861/160250808.py:15: SettingWithCopyWarning: \n",
      "A value is trying to be set on a copy of a slice from a DataFrame.\n",
      "Try using .loc[row_indexer,col_indexer] = value instead\n",
      "\n",
      "See the caveats in the documentation: https://pandas.pydata.org/pandas-docs/stable/user_guide/indexing.html#returning-a-view-versus-a-copy\n",
      "  population['Metropolitan area']=population['Metropolitan area'].str.strip()\n",
      "/tmp/ipykernel_20861/160250808.py:16: SettingWithCopyWarning: \n",
      "A value is trying to be set on a copy of a slice from a DataFrame\n",
      "\n",
      "See the caveats in the documentation: https://pandas.pydata.org/pandas-docs/stable/user_guide/indexing.html#returning-a-view-versus-a-copy\n",
      "  population.rename(columns={'Population (2016 est.)[8]':'Population'},inplace=True)\n"
     ]
    }
   ],
   "source": [
    "import pandas as pd\n",
    "import numpy as np\n",
    "import scipy.stats as stats\n",
    "import re\n",
    "\n",
    "def gets_area(team):\n",
    "    for each in list(nfl_cities.index.values):\n",
    "        if  team in each: return nfl_cities.at[each, 'Metropolitan area']\n",
    "        \n",
    "nfl_df=pd.read_csv(\"assets/nfl.csv\")\n",
    "cities=pd.read_html(\"assets/wikipedia_data.html\")[1]\n",
    "cities=cities.iloc[:-1,[0,3,5,6,7,8]]\n",
    "\n",
    "population =cities[['Metropolitan area', 'Population (2016 est.)[8]']]\n",
    "population['Metropolitan area']=population['Metropolitan area'].str.strip()\n",
    "population.rename(columns={'Population (2016 est.)[8]':'Population'},inplace=True)\n",
    "population = population.set_index('Metropolitan area')\n",
    "\n",
    "\n",
    "cities['NFL'].replace(r'(.*)\\[.*\\].*|[-—]',r'\\1',regex=True, inplace=True)\n",
    "cities['NFL'].replace('—', np.nan, inplace=True)\n",
    "cities['NFL']=cities['NFL'].str.strip('—').str.strip(' ')\n",
    "cities['NFL'].replace('', np.nan, inplace=True)\n",
    "#cities.to_excel('c1.xlsx')\n",
    "cities.dropna(inplace=True)\n",
    "\n",
    "nfl_cities = cities[['Metropolitan area', 'NFL']].set_index('NFL')\n",
    "nfl_df=nfl_df[nfl_df['year']==2018].iloc[:,[1,11,13,14]]\n",
    "nfl_df.drop([0, 5, 10,15,20, 25,30,35],axis=0,inplace=True)\n",
    "nfl_df['team'].replace(r'(.*)[\\*+]|[\\(].*',r\"\\1\".strip(),regex=True, inplace=True)\n",
    "#nfl_df.to_excel(\"n1.xlsx\")\n",
    "nfl_df[['team']]=nfl_df[['team']].apply(lambda x: x.str.strip())\n",
    "nfl_df['Area']=nfl_df['team'].str.split(\" \").str[-1:]\n",
    "nfl_df[\"Area\"]= nfl_df[\"Area\"].str[0]\n",
    "nfl_df['Area'] = nfl_df['Area'].apply(lambda x: gets_area(x))\n",
    "#nfl_df.to_excel(\"n2.xlsx\")\n",
    "\n",
    "nfl_df[['W','L']] = nfl_df[['W','L']].apply(pd.to_numeric, axis=1)\n",
    "#print(nfl_df)\n",
    "nfl_df=nfl_df.groupby('Area').sum()\n",
    "#print(nfl_df)\n",
    "nfl_df.eval(\"Ratio =W / (W + L)\", inplace=True)\n",
    "nfl_df.drop(['W','L','year'], axis=1,inplace=True)\n",
    "#print(len(nfl_df))\n",
    "out_df = pd.merge(nfl_df, population, how=\"inner\", left_index=True, right_index=True)\n",
    "out_df['Population']=pd.to_numeric(out_df['Population'])\n",
    "#out_df.to_excel('Q4.xlsx')\n",
    "#print(out_df)\n",
    "def nfl_correlation(): \n",
    "    # YOUR CODE HERE\n",
    "    #raise NotImplementedError()\n",
    "    \n",
    "    population_by_region =out_df['Population'] # pass in metropolitan area population from cities\n",
    "    win_loss_by_region =out_df['Ratio'] # pass in win/loss ratio from nfl_df in the same order as cities[\"Metropolitan area\"]\n",
    "\n",
    "    assert len(population_by_region) == len(win_loss_by_region), \"Q4: Your lists must be the same length\"\n",
    "    assert len(population_by_region) == 29, \"Q4: There should be 29 teams being analysed for NFL\"\n",
    "\n",
    "    return stats.pearsonr(population_by_region, win_loss_by_region)[0]"
   ]
  },
  {
   "cell_type": "code",
   "execution_count": null,
   "metadata": {
    "deletable": false,
    "editable": false,
    "nbgrader": {
     "cell_type": "code",
     "checksum": "e9415d6399aa49e3a1a60813afdefa3b",
     "grade": true,
     "grade_id": "cell-de7b148b9554dbda",
     "locked": true,
     "points": 20,
     "schema_version": 3,
     "solution": false
    }
   },
   "outputs": [],
   "source": []
  },
  {
   "cell_type": "markdown",
   "metadata": {
    "deletable": false,
    "editable": false,
    "nbgrader": {
     "cell_type": "markdown",
     "checksum": "b02d5cd3273f561e4ae939bb2a41740c",
     "grade": false,
     "grade_id": "cell-97b49d8639e908c4",
     "locked": true,
     "schema_version": 3,
     "solution": false
    }
   },
   "source": [
    "## Question 5\n",
    "In this question I would like you to explore the hypothesis that **given that an area has two sports teams in different sports, those teams will perform the same within their respective sports**. How I would like to see this explored is with a series of paired t-tests (so use [`ttest_rel`](https://docs.scipy.org/doc/scipy/reference/generated/scipy.stats.ttest_rel.html)) between all pairs of sports. Are there any sports where we can reject the null hypothesis? Again, average values where a sport has multiple teams in one region. Remember, you will only be including, for each sport, cities which have teams engaged in that sport, drop others as appropriate. This question is worth 20% of the grade for this assignment."
   ]
  },
  {
   "cell_type": "code",
   "execution_count": 57,
   "metadata": {},
   "outputs": [
    {
     "ename": "KeyError",
     "evalue": "\"['Metropolitan area'] not in index\"",
     "output_type": "error",
     "traceback": [
      "\u001b[0;31m---------------------------------------------------------------------------\u001b[0m",
      "\u001b[0;31mKeyError\u001b[0m                                  Traceback (most recent call last)",
      "\u001b[1;32m/home/camilo/personal_projects/Coursera/Introduction_to_data_dcience_in_python/week_4/addignment4/assignment4.ipynb Cell 14\u001b[0m line \u001b[0;36m2\n\u001b[1;32m      <a href='vscode-notebook-cell://wsl%2Bubuntu/home/camilo/personal_projects/Coursera/Introduction_to_data_dcience_in_python/week_4/addignment4/assignment4.ipynb#X66sdnNjb2RlLXJlbW90ZQ%3D%3D?line=0'>1</a>\u001b[0m all_sports \u001b[39m=\u001b[39m (cities[[\u001b[39m'\u001b[39m\u001b[39mMetropolitan area\u001b[39m\u001b[39m'\u001b[39m, \u001b[39m'\u001b[39m\u001b[39mPopulation (2016 est.)[8]\u001b[39m\u001b[39m'\u001b[39m]]\n\u001b[0;32m----> <a href='vscode-notebook-cell://wsl%2Bubuntu/home/camilo/personal_projects/Coursera/Introduction_to_data_dcience_in_python/week_4/addignment4/assignment4.ipynb#X66sdnNjb2RlLXJlbW90ZQ%3D%3D?line=1'>2</a>\u001b[0m               \u001b[39m.\u001b[39mmerge(nhl_df[[\u001b[39m'\u001b[39;49m\u001b[39mMetropolitan area\u001b[39;49m\u001b[39m'\u001b[39;49m, \u001b[39m'\u001b[39;49m\u001b[39mRatio\u001b[39;49m\u001b[39m'\u001b[39;49m]], how \u001b[39m=\u001b[39m \u001b[39m'\u001b[39m\u001b[39mouter\u001b[39m\u001b[39m'\u001b[39m, on\u001b[39m=\u001b[39m\u001b[39m'\u001b[39m\u001b[39mMetropolitan area\u001b[39m\u001b[39m'\u001b[39m)\n\u001b[1;32m      <a href='vscode-notebook-cell://wsl%2Bubuntu/home/camilo/personal_projects/Coursera/Introduction_to_data_dcience_in_python/week_4/addignment4/assignment4.ipynb#X66sdnNjb2RlLXJlbW90ZQ%3D%3D?line=2'>3</a>\u001b[0m               \u001b[39m.\u001b[39mmerge(nba_df[[\u001b[39m'\u001b[39m\u001b[39mMetropolitan area\u001b[39m\u001b[39m'\u001b[39m, \u001b[39m'\u001b[39m\u001b[39mRatio\u001b[39m\u001b[39m'\u001b[39m]], how \u001b[39m=\u001b[39m \u001b[39m'\u001b[39m\u001b[39mouter\u001b[39m\u001b[39m'\u001b[39m, on\u001b[39m=\u001b[39m\u001b[39m'\u001b[39m\u001b[39mMetropolitan area\u001b[39m\u001b[39m'\u001b[39m)\n\u001b[1;32m      <a href='vscode-notebook-cell://wsl%2Bubuntu/home/camilo/personal_projects/Coursera/Introduction_to_data_dcience_in_python/week_4/addignment4/assignment4.ipynb#X66sdnNjb2RlLXJlbW90ZQ%3D%3D?line=3'>4</a>\u001b[0m               \u001b[39m.\u001b[39mmerge(mlb_df[[\u001b[39m'\u001b[39m\u001b[39mMetropolitan area\u001b[39m\u001b[39m'\u001b[39m, \u001b[39m'\u001b[39m\u001b[39mRatio\u001b[39m\u001b[39m'\u001b[39m]], how \u001b[39m=\u001b[39m \u001b[39m'\u001b[39m\u001b[39mouter\u001b[39m\u001b[39m'\u001b[39m, on\u001b[39m=\u001b[39m\u001b[39m'\u001b[39m\u001b[39mMetropolitan area\u001b[39m\u001b[39m'\u001b[39m)\n\u001b[1;32m      <a href='vscode-notebook-cell://wsl%2Bubuntu/home/camilo/personal_projects/Coursera/Introduction_to_data_dcience_in_python/week_4/addignment4/assignment4.ipynb#X66sdnNjb2RlLXJlbW90ZQ%3D%3D?line=4'>5</a>\u001b[0m               \u001b[39m.\u001b[39mmerge(nfl_df[[\u001b[39m'\u001b[39m\u001b[39mMetropolitan area\u001b[39m\u001b[39m'\u001b[39m, \u001b[39m'\u001b[39m\u001b[39mRatio\u001b[39m\u001b[39m'\u001b[39m]], how \u001b[39m=\u001b[39m \u001b[39m'\u001b[39m\u001b[39mouter\u001b[39m\u001b[39m'\u001b[39m, on\u001b[39m=\u001b[39m\u001b[39m'\u001b[39m\u001b[39mMetropolitan area\u001b[39m\u001b[39m'\u001b[39m))\n\u001b[1;32m      <a href='vscode-notebook-cell://wsl%2Bubuntu/home/camilo/personal_projects/Coursera/Introduction_to_data_dcience_in_python/week_4/addignment4/assignment4.ipynb#X66sdnNjb2RlLXJlbW90ZQ%3D%3D?line=5'>6</a>\u001b[0m all_sports\n",
      "File \u001b[0;32m~/.local/share/virtualenvs/personal_projects-gGj3Addx/lib/python3.11/site-packages/pandas/core/frame.py:3899\u001b[0m, in \u001b[0;36mDataFrame.__getitem__\u001b[0;34m(self, key)\u001b[0m\n\u001b[1;32m   3897\u001b[0m     \u001b[39mif\u001b[39;00m is_iterator(key):\n\u001b[1;32m   3898\u001b[0m         key \u001b[39m=\u001b[39m \u001b[39mlist\u001b[39m(key)\n\u001b[0;32m-> 3899\u001b[0m     indexer \u001b[39m=\u001b[39m \u001b[39mself\u001b[39;49m\u001b[39m.\u001b[39;49mcolumns\u001b[39m.\u001b[39;49m_get_indexer_strict(key, \u001b[39m\"\u001b[39;49m\u001b[39mcolumns\u001b[39;49m\u001b[39m\"\u001b[39;49m)[\u001b[39m1\u001b[39m]\n\u001b[1;32m   3901\u001b[0m \u001b[39m# take() does not accept boolean indexers\u001b[39;00m\n\u001b[1;32m   3902\u001b[0m \u001b[39mif\u001b[39;00m \u001b[39mgetattr\u001b[39m(indexer, \u001b[39m\"\u001b[39m\u001b[39mdtype\u001b[39m\u001b[39m\"\u001b[39m, \u001b[39mNone\u001b[39;00m) \u001b[39m==\u001b[39m \u001b[39mbool\u001b[39m:\n",
      "File \u001b[0;32m~/.local/share/virtualenvs/personal_projects-gGj3Addx/lib/python3.11/site-packages/pandas/core/indexes/base.py:6115\u001b[0m, in \u001b[0;36mIndex._get_indexer_strict\u001b[0;34m(self, key, axis_name)\u001b[0m\n\u001b[1;32m   6112\u001b[0m \u001b[39melse\u001b[39;00m:\n\u001b[1;32m   6113\u001b[0m     keyarr, indexer, new_indexer \u001b[39m=\u001b[39m \u001b[39mself\u001b[39m\u001b[39m.\u001b[39m_reindex_non_unique(keyarr)\n\u001b[0;32m-> 6115\u001b[0m \u001b[39mself\u001b[39;49m\u001b[39m.\u001b[39;49m_raise_if_missing(keyarr, indexer, axis_name)\n\u001b[1;32m   6117\u001b[0m keyarr \u001b[39m=\u001b[39m \u001b[39mself\u001b[39m\u001b[39m.\u001b[39mtake(indexer)\n\u001b[1;32m   6118\u001b[0m \u001b[39mif\u001b[39;00m \u001b[39misinstance\u001b[39m(key, Index):\n\u001b[1;32m   6119\u001b[0m     \u001b[39m# GH 42790 - Preserve name from an Index\u001b[39;00m\n",
      "File \u001b[0;32m~/.local/share/virtualenvs/personal_projects-gGj3Addx/lib/python3.11/site-packages/pandas/core/indexes/base.py:6179\u001b[0m, in \u001b[0;36mIndex._raise_if_missing\u001b[0;34m(self, key, indexer, axis_name)\u001b[0m\n\u001b[1;32m   6176\u001b[0m     \u001b[39mraise\u001b[39;00m \u001b[39mKeyError\u001b[39;00m(\u001b[39mf\u001b[39m\u001b[39m\"\u001b[39m\u001b[39mNone of [\u001b[39m\u001b[39m{\u001b[39;00mkey\u001b[39m}\u001b[39;00m\u001b[39m] are in the [\u001b[39m\u001b[39m{\u001b[39;00maxis_name\u001b[39m}\u001b[39;00m\u001b[39m]\u001b[39m\u001b[39m\"\u001b[39m)\n\u001b[1;32m   6178\u001b[0m not_found \u001b[39m=\u001b[39m \u001b[39mlist\u001b[39m(ensure_index(key)[missing_mask\u001b[39m.\u001b[39mnonzero()[\u001b[39m0\u001b[39m]]\u001b[39m.\u001b[39munique())\n\u001b[0;32m-> 6179\u001b[0m \u001b[39mraise\u001b[39;00m \u001b[39mKeyError\u001b[39;00m(\u001b[39mf\u001b[39m\u001b[39m\"\u001b[39m\u001b[39m{\u001b[39;00mnot_found\u001b[39m}\u001b[39;00m\u001b[39m not in index\u001b[39m\u001b[39m\"\u001b[39m)\n",
      "\u001b[0;31mKeyError\u001b[0m: \"['Metropolitan area'] not in index\""
     ]
    }
   ],
   "source": [
    "all_sports = (cities[['Metropolitan area', 'Population (2016 est.)[8]']]\n",
    "              .merge(nhl_df[['Metropolitan area', 'Ratio']], how = 'outer', on='Metropolitan area')\n",
    "              .merge(nba_df[['Metropolitan area', 'Ratio']], how = 'outer', on='Metropolitan area')\n",
    "              .merge(mlb_df[['Metropolitan area', 'Ratio']], how = 'outer', on='Metropolitan area')\n",
    "              .merge(nfl_df[['Metropolitan area', 'Ratio']], how = 'outer', on='Metropolitan area'))\n",
    "all_sports"
   ]
  },
  {
   "cell_type": "code",
   "execution_count": null,
   "metadata": {
    "deletable": false,
    "nbgrader": {
     "cell_type": "code",
     "checksum": "6d78c961eb66f8d8c81f06d33ae8f393",
     "grade": false,
     "grade_id": "cell-92f25f44b8d1179f",
     "locked": false,
     "schema_version": 3,
     "solution": true
    }
   },
   "outputs": [],
   "source": [
    "import pandas as pd\n",
    "import numpy as np\n",
    "import scipy.stats as stats\n",
    "import re\n",
    "\n",
    "mlb_df=pd.read_csv(\"assets/mlb.csv\")\n",
    "nhl_df=pd.read_csv(\"assets/nhl.csv\")\n",
    "nba_df=pd.read_csv(\"assets/nba.csv\")\n",
    "nfl_df=pd.read_csv(\"assets/nfl.csv\")\n",
    "cities=pd.read_html(\"assets/wikipedia_data.html\")[1]\n",
    "cities=cities.iloc[:-1,[0,3,5,6,7,8]]\n",
    "\n",
    "def sports_team_performance():\n",
    "    # YOUR CODE HERE\n",
    "    #raise NotImplementedError()\n",
    "    \n",
    "    # Note: p_values is a full dataframe, so df.loc[\"NFL\",\"NBA\"] should be the same as df.loc[\"NBA\",\"NFL\"] and\n",
    "    # df.loc[\"NFL\",\"NFL\"] should return np.nan\n",
    "    sports = ['NFL', 'NBA', 'NHL', 'MLB']\n",
    "    p_values = pd.DataFrame({k:np.nan for k in sports}, index=sports)\n",
    "    \n",
    "    for sport1 in sports:\n",
    "        for sport2 in sports:\n",
    "            print(sport1, sport2)\n",
    "            tmpVal = np.nan\n",
    "\n",
    "            if sport1==sport2:\n",
    "                p_values.loc[sport1,sport2] = tmpVal\n",
    "                print('test size: NA')\n",
    "            else:\n",
    "                col1='AvgWL_Ratio_'+sport1.lower()\n",
    "                col2='AvgWL_Ratio_'+sport2.lower()\n",
    "                tmpDF = all_sports[(np.isnan(all_sports[col1])==False) & (np.isnan(all_sports[col2])==False)]\n",
    "\n",
    "                print('test size: ',len(tmpDF))\n",
    "                \n",
    "                tmpVal = stats.ttest_rel(tmpDF[col1], tmpDF[col2])[1]\n",
    "                p_values.loc[sport1,sport2] = tmpVal\n",
    "\n",
    "    p_values\n",
    "\n",
    "    \n",
    "    assert abs(p_values.loc[\"NBA\", \"NHL\"] - 0.02) <= 1e-2, \"The NBA-NHL p-value should be around 0.02\"\n",
    "    assert abs(p_values.loc[\"MLB\", \"NFL\"] - 0.80) <= 1e-2, \"The MLB-NFL p-value should be around 0.80\"\n",
    "    return p_values"
   ]
  },
  {
   "cell_type": "code",
   "execution_count": null,
   "metadata": {
    "deletable": false,
    "editable": false,
    "nbgrader": {
     "cell_type": "code",
     "checksum": "2a596ab421a45cc01168d10e8fbb8f89",
     "grade": true,
     "grade_id": "cell-fb4b9cb5ff4570a6",
     "locked": true,
     "points": 20,
     "schema_version": 3,
     "solution": false
    }
   },
   "outputs": [],
   "source": []
  }
 ],
 "metadata": {
  "kernelspec": {
   "display_name": "Python 3 (ipykernel)",
   "language": "python",
   "name": "python3"
  },
  "language_info": {
   "codemirror_mode": {
    "name": "ipython",
    "version": 3
   },
   "file_extension": ".py",
   "mimetype": "text/x-python",
   "name": "python",
   "nbconvert_exporter": "python",
   "pygments_lexer": "ipython3",
   "version": "3.11.4"
  }
 },
 "nbformat": 4,
 "nbformat_minor": 4
}
